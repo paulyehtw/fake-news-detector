{
 "cells": [
  {
   "cell_type": "code",
   "execution_count": 2,
   "metadata": {},
   "outputs": [],
   "source": [
    "import pickle\n",
    "import pandas as pd\n",
    "import numpy as np\n",
    "data = pd.read_pickle(\"./data.pkl\")"
   ]
  },
  {
   "cell_type": "code",
   "execution_count": 3,
   "metadata": {},
   "outputs": [],
   "source": [
    "target_feature = 'title'\n",
    "data = data.filter([target_feature + \"_vector\", 'label'])"
   ]
  },
  {
   "cell_type": "code",
   "execution_count": 4,
   "metadata": {},
   "outputs": [
    {
     "output_type": "execute_result",
     "data": {
      "text/plain": [
       "                                        title_vector  label\n",
       "0  [[0.6595936, 0.51315624, 0.29930714, 0.0358353...      1\n",
       "1  [[0.61800295, 0.31473106, -0.6350405, 0.099915...      1\n",
       "2  [[0.4370836, 0.6425256, -0.34794593, 0.1336654...      1\n",
       "3  [[0.47920132, 0.52537596, -0.5724726, 0.432976...      1\n",
       "4  [[0.79335517, 0.23477861, -0.13257661, -0.1356...      1"
      ],
      "text/html": "<div>\n<style scoped>\n    .dataframe tbody tr th:only-of-type {\n        vertical-align: middle;\n    }\n\n    .dataframe tbody tr th {\n        vertical-align: top;\n    }\n\n    .dataframe thead th {\n        text-align: right;\n    }\n</style>\n<table border=\"1\" class=\"dataframe\">\n  <thead>\n    <tr style=\"text-align: right;\">\n      <th></th>\n      <th>title_vector</th>\n      <th>label</th>\n    </tr>\n  </thead>\n  <tbody>\n    <tr>\n      <th>0</th>\n      <td>[[0.6595936, 0.51315624, 0.29930714, 0.0358353...</td>\n      <td>1</td>\n    </tr>\n    <tr>\n      <th>1</th>\n      <td>[[0.61800295, 0.31473106, -0.6350405, 0.099915...</td>\n      <td>1</td>\n    </tr>\n    <tr>\n      <th>2</th>\n      <td>[[0.4370836, 0.6425256, -0.34794593, 0.1336654...</td>\n      <td>1</td>\n    </tr>\n    <tr>\n      <th>3</th>\n      <td>[[0.47920132, 0.52537596, -0.5724726, 0.432976...</td>\n      <td>1</td>\n    </tr>\n    <tr>\n      <th>4</th>\n      <td>[[0.79335517, 0.23477861, -0.13257661, -0.1356...</td>\n      <td>1</td>\n    </tr>\n  </tbody>\n</table>\n</div>"
     },
     "metadata": {},
     "execution_count": 4
    }
   ],
   "source": [
    "data.head()"
   ]
  },
  {
   "cell_type": "code",
   "execution_count": 5,
   "metadata": {},
   "outputs": [
    {
     "output_type": "stream",
     "name": "stdout",
     "text": [
      "                                           title_vector  label\n4242  [[0.7326835, -0.104269534, 0.18609972, -0.3458...      1\n187   [[0.44528148, 0.03655012, -0.12393154, 0.43934...      1\n1479  [[0.43059963, 0.05647775, -0.15501457, 0.37106...      1\n4235  [[0.7867865, 0.34196055, 0.062153183, 0.215785...      1\n461   [[0.43652534, -0.36366335, -0.71743137, -0.267...      0\n...                                                 ...    ...\n4212  [[0.87619215, 0.45379844, -0.122751236, -0.305...      1\n2687  [[0.97706026, -0.30546528, -0.015893033, -0.20...      0\n2119  [[0.6905516, 0.085860595, 0.030321244, -0.0475...      1\n4017  [[0.26876533, 0.2418903, -0.06839772, 0.098044...      0\n2982  [[0.54721344, 0.015975937, -0.43114954, 0.1802...      0\n\n[3457 rows x 2 columns]\n                                           title_vector  label\n91    [[0.29445377, 0.7319299, -0.07019389, 0.248855...      1\n4187  [[0.5947004, -0.34817788, -0.1250591, 0.287285...      1\n2507  [[0.38071847, 0.5159382, -0.0494503, -0.225324...      1\n1808  [[0.6525312, -0.32875022, -0.14181589, 0.14258...      1\n2953  [[0.10483644, -0.11899833, -0.2072039, -0.1604...      1\n...                                                 ...    ...\n1456  [[0.39209467, 0.023324264, -0.008076084, 0.148...      1\n95    [[1.1311213, 0.3095342, 0.21830004, -0.0011361...      1\n27    [[0.6632462, -0.12574153, 0.07375643, 0.396111...      0\n1724  [[0.41294393, 0.06327402, -0.14304687, 0.44529...      1\n833   [[0.35075164, -0.13676445, 0.20392859, 0.28991...      1\n\n[865 rows x 2 columns]\n"
     ]
    }
   ],
   "source": [
    "from sklearn.model_selection import train_test_split\n",
    "train_data, test_data = train_test_split(data, random_state=777, train_size=0.8)\n",
    "print(train_data)\n",
    "print(test_data)"
   ]
  },
  {
   "cell_type": "code",
   "execution_count": 6,
   "metadata": {},
   "outputs": [],
   "source": [
    "input_shape = train_data[target_feature + \"_vector\"].iloc[0].shape[1]"
   ]
  },
  {
   "cell_type": "code",
   "execution_count": 7,
   "metadata": {},
   "outputs": [
    {
     "output_type": "stream",
     "name": "stdout",
     "text": [
      "(3457, 768)\n(3457, 1)\n(865, 768)\n(865, 1)\n"
     ]
    }
   ],
   "source": [
    "x_train = train_data[target_feature + \"_vector\"].values\n",
    "y_train = train_data['label'].values\n",
    "x_train = np.vstack(x_train)\n",
    "y_train = np.vstack(y_train)\n",
    "\n",
    "x_test = test_data[target_feature + \"_vector\"].values\n",
    "y_test = test_data['label'].values\n",
    "x_test = np.vstack(x_test)\n",
    "y_test = np.vstack(y_test)\n",
    "print(x_train.shape)\n",
    "print(y_train.shape)\n",
    "print(x_test.shape)\n",
    "print(y_test.shape)"
   ]
  },
  {
   "cell_type": "code",
   "execution_count": 8,
   "metadata": {
    "tags": []
   },
   "outputs": [
    {
     "output_type": "stream",
     "name": "stdout",
     "text": [
      "Epoch 1/100\n",
      " - 0s - loss: 0.3515 - acc: 0.8421\n",
      "Epoch 2/100\n",
      " - 0s - loss: 0.2535 - acc: 0.9005\n",
      "Epoch 3/100\n",
      " - 0s - loss: 0.2192 - acc: 0.9147\n",
      "Epoch 4/100\n",
      " - 0s - loss: 0.1932 - acc: 0.9262\n",
      "Epoch 5/100\n",
      " - 0s - loss: 0.1766 - acc: 0.9340\n",
      "Epoch 6/100\n",
      " - 0s - loss: 0.1575 - acc: 0.9419\n",
      "Epoch 7/100\n",
      " - 0s - loss: 0.1551 - acc: 0.9390\n",
      "Epoch 8/100\n",
      " - 0s - loss: 0.1251 - acc: 0.9555\n",
      "Epoch 9/100\n",
      " - 0s - loss: 0.1107 - acc: 0.9659\n",
      "Epoch 10/100\n",
      " - 0s - loss: 0.0998 - acc: 0.9679\n",
      "Epoch 11/100\n",
      " - 0s - loss: 0.0861 - acc: 0.9740\n",
      "Epoch 12/100\n",
      " - 0s - loss: 0.0762 - acc: 0.9789\n",
      "Epoch 13/100\n",
      " - 0s - loss: 0.0672 - acc: 0.9798\n",
      "Epoch 14/100\n",
      " - 0s - loss: 0.0620 - acc: 0.9838\n",
      "Epoch 15/100\n",
      " - 0s - loss: 0.0483 - acc: 0.9887\n",
      "Epoch 16/100\n",
      " - 0s - loss: 0.0444 - acc: 0.9907\n",
      "Epoch 17/100\n",
      " - 0s - loss: 0.0357 - acc: 0.9939\n",
      "Epoch 18/100\n",
      " - 0s - loss: 0.0307 - acc: 0.9962\n",
      "Epoch 19/100\n",
      " - 0s - loss: 0.0381 - acc: 0.9907\n",
      "Epoch 20/100\n",
      " - 0s - loss: 0.0211 - acc: 0.9986\n",
      "Epoch 21/100\n",
      " - 0s - loss: 0.0193 - acc: 0.9980\n",
      "Epoch 22/100\n",
      " - 0s - loss: 0.0183 - acc: 0.9986\n",
      "Epoch 23/100\n",
      " - 0s - loss: 0.0173 - acc: 0.9986\n",
      "Epoch 24/100\n",
      " - 0s - loss: 0.0138 - acc: 0.9983\n",
      "Epoch 25/100\n",
      " - 0s - loss: 0.0124 - acc: 0.9988\n",
      "Epoch 26/100\n",
      " - 0s - loss: 0.0118 - acc: 0.9986\n",
      "Epoch 27/100\n",
      " - 0s - loss: 0.0106 - acc: 0.9986\n",
      "Epoch 28/100\n",
      " - 0s - loss: 0.0114 - acc: 0.9986\n",
      "Epoch 29/100\n",
      " - 0s - loss: 0.0113 - acc: 0.9983\n",
      "Epoch 30/100\n",
      " - 0s - loss: 0.0120 - acc: 0.9986\n",
      "Epoch 31/100\n",
      " - 0s - loss: 0.0080 - acc: 0.9991\n",
      "Epoch 32/100\n",
      " - 0s - loss: 0.0074 - acc: 0.9991\n",
      "Epoch 33/100\n",
      " - 0s - loss: 0.0075 - acc: 0.9988\n",
      "Epoch 34/100\n",
      " - 0s - loss: 0.0100 - acc: 0.9988\n",
      "Epoch 35/100\n",
      " - 0s - loss: 0.0079 - acc: 0.9986\n",
      "Epoch 36/100\n",
      " - 0s - loss: 0.0086 - acc: 0.9986\n",
      "Epoch 37/100\n",
      " - 0s - loss: 0.0084 - acc: 0.9991\n",
      "Epoch 38/100\n",
      " - 0s - loss: 0.0069 - acc: 0.9994\n",
      "Epoch 39/100\n",
      " - 0s - loss: 0.0057 - acc: 0.9994\n",
      "Epoch 40/100\n",
      " - 0s - loss: 0.0107 - acc: 0.9988\n",
      "Epoch 41/100\n",
      " - 0s - loss: 0.0076 - acc: 0.9988\n",
      "Epoch 42/100\n",
      " - 0s - loss: 0.0070 - acc: 0.9991\n",
      "Epoch 43/100\n",
      " - 0s - loss: 0.0058 - acc: 0.9991\n",
      "Epoch 44/100\n",
      " - 0s - loss: 0.0081 - acc: 0.9988\n",
      "Epoch 45/100\n",
      " - 0s - loss: 0.0094 - acc: 0.9986\n",
      "Epoch 46/100\n",
      " - 0s - loss: 0.0091 - acc: 0.9986\n",
      "Epoch 47/100\n",
      " - 0s - loss: 0.0064 - acc: 0.9991\n",
      "Epoch 48/100\n",
      " - 0s - loss: 0.0066 - acc: 0.9991\n",
      "Epoch 49/100\n",
      " - 0s - loss: 0.0060 - acc: 0.9991\n",
      "Epoch 50/100\n",
      " - 0s - loss: 0.0131 - acc: 0.9974\n",
      "Epoch 51/100\n",
      " - 0s - loss: 0.0054 - acc: 0.9994\n",
      "Epoch 52/100\n",
      " - 0s - loss: 0.0066 - acc: 0.9991\n",
      "Epoch 53/100\n",
      " - 0s - loss: 0.0050 - acc: 0.9991\n",
      "Epoch 54/100\n",
      " - 0s - loss: 0.0060 - acc: 0.9988\n",
      "Epoch 55/100\n",
      " - 0s - loss: 0.0113 - acc: 0.9980\n",
      "Epoch 56/100\n",
      " - 0s - loss: 0.0141 - acc: 0.9965\n",
      "Epoch 57/100\n",
      " - 0s - loss: 0.0141 - acc: 0.9977\n",
      "Epoch 58/100\n",
      " - 0s - loss: 0.0076 - acc: 0.9991\n",
      "Epoch 59/100\n",
      " - 0s - loss: 0.0033 - acc: 0.9994\n",
      "Epoch 60/100\n",
      " - 0s - loss: 0.0053 - acc: 0.9994\n",
      "Epoch 61/100\n",
      " - 0s - loss: 0.0051 - acc: 0.9991\n",
      "Epoch 62/100\n",
      " - 0s - loss: 0.0053 - acc: 0.9991\n",
      "Epoch 63/100\n",
      " - 0s - loss: 0.0058 - acc: 0.9991\n",
      "Epoch 64/100\n",
      " - 0s - loss: 0.0074 - acc: 0.9988\n",
      "Epoch 65/100\n",
      " - 0s - loss: 0.0113 - acc: 0.9974\n",
      "Epoch 66/100\n",
      " - 0s - loss: 0.0083 - acc: 0.9986\n",
      "Epoch 67/100\n",
      " - 0s - loss: 0.0048 - acc: 0.9986\n",
      "Epoch 68/100\n",
      " - 0s - loss: 0.0078 - acc: 0.9983\n",
      "Epoch 69/100\n",
      " - 0s - loss: 0.0055 - acc: 0.9986\n",
      "Epoch 70/100\n",
      " - 0s - loss: 0.0084 - acc: 0.9988\n",
      "Epoch 71/100\n",
      " - 0s - loss: 0.0059 - acc: 0.9991\n",
      "Epoch 72/100\n",
      " - 0s - loss: 0.0042 - acc: 0.9994\n",
      "Epoch 73/100\n",
      " - 0s - loss: 0.0061 - acc: 0.9988\n",
      "Epoch 74/100\n",
      " - 0s - loss: 0.0038 - acc: 0.9991\n",
      "Epoch 75/100\n",
      " - 0s - loss: 0.0047 - acc: 0.9994\n",
      "Epoch 76/100\n",
      " - 0s - loss: 0.0049 - acc: 0.9991\n",
      "Epoch 77/100\n",
      " - 0s - loss: 0.0063 - acc: 0.9991\n",
      "Epoch 78/100\n",
      " - 0s - loss: 0.0062 - acc: 0.9991\n",
      "Epoch 79/100\n",
      " - 0s - loss: 0.0050 - acc: 0.9994\n",
      "Epoch 80/100\n",
      " - 0s - loss: 0.0041 - acc: 0.9994\n",
      "Epoch 81/100\n",
      " - 0s - loss: 0.0056 - acc: 0.9994\n",
      "Epoch 82/100\n",
      " - 0s - loss: 0.0046 - acc: 0.9994\n",
      "Epoch 83/100\n",
      " - 0s - loss: 0.0076 - acc: 0.9991\n",
      "Epoch 84/100\n",
      " - 0s - loss: 0.0088 - acc: 0.9991\n",
      "Epoch 85/100\n",
      " - 0s - loss: 0.0056 - acc: 0.9991\n",
      "Epoch 86/100\n",
      " - 0s - loss: 0.0087 - acc: 0.9986\n",
      "Epoch 87/100\n",
      " - 0s - loss: 0.0052 - acc: 0.9991\n",
      "Epoch 88/100\n",
      " - 0s - loss: 0.0077 - acc: 0.9986\n",
      "Epoch 89/100\n",
      " - 0s - loss: 0.0073 - acc: 0.9988\n",
      "Epoch 90/100\n",
      " - 0s - loss: 0.0053 - acc: 0.9991\n",
      "Epoch 91/100\n",
      " - 0s - loss: 0.0061 - acc: 0.9991\n",
      "Epoch 92/100\n",
      " - 0s - loss: 0.0073 - acc: 0.9986\n",
      "Epoch 93/100\n",
      " - 0s - loss: 0.0126 - acc: 0.9983\n",
      "Epoch 94/100\n",
      " - 0s - loss: 0.0052 - acc: 0.9988\n",
      "Epoch 95/100\n",
      " - 0s - loss: 0.0070 - acc: 0.9988\n",
      "Epoch 96/100\n",
      " - 0s - loss: 0.0082 - acc: 0.9986\n",
      "Epoch 97/100\n",
      " - 0s - loss: 0.0040 - acc: 0.9991\n",
      "Epoch 98/100\n",
      " - 0s - loss: 0.0056 - acc: 0.9988\n",
      "Epoch 99/100\n",
      " - 0s - loss: 0.0055 - acc: 0.9991\n",
      "Epoch 100/100\n",
      " - 0s - loss: 0.0061 - acc: 0.9991\n"
     ]
    }
   ],
   "source": [
    "import tensorflow.keras\n",
    "from tensorflow.keras.models import Sequential\n",
    "from tensorflow.keras.layers import Dense, Dropout, Activation\n",
    "from tensorflow.keras.optimizers import Adam\n",
    "\n",
    "input_dim = x_train.shape[1]\n",
    "model = Sequential()\n",
    "model.add(Dense(64, activation='relu', input_dim=input_dim))\n",
    "model.add(Dense(1, activation='sigmoid'))\n",
    "\n",
    "adam = Adam(lr=0.001)\n",
    "model.compile(optimizer = adam,\n",
    "              loss='binary_crossentropy',\n",
    "              metrics=['accuracy'])\n",
    "\n",
    "history = model.fit(x_train, y_train, epochs=100, verbose=2)"
   ]
  },
  {
   "cell_type": "code",
   "execution_count": 9,
   "metadata": {},
   "outputs": [
    {
     "output_type": "stream",
     "name": "stdout",
     "text": [
      "865/865 [==============================] - 0s 83us/step\n",
      "Evaluate on test data\n",
      "test loss, test acc: [0.5242473851633662, 0.9075144508670521]\n"
     ]
    }
   ],
   "source": [
    "score = model.evaluate(x_test, y_test)\n",
    "print(\"Evaluate on test data\")\n",
    "print(\"test loss, test acc:\", score)"
   ]
  },
  {
   "cell_type": "code",
   "execution_count": null,
   "metadata": {},
   "outputs": [],
   "source": []
  }
 ],
 "metadata": {
  "kernelspec": {
   "name": "python3",
   "display_name": "Python 3.8.6 64-bit",
   "metadata": {
    "interpreter": {
     "hash": "7e85ec9bf098c5427e45e2f632dcd4eeff803b007e1abd287d600879388709c1"
    }
   }
  },
  "language_info": {
   "codemirror_mode": {
    "name": "ipython",
    "version": 3
   },
   "file_extension": ".py",
   "mimetype": "text/x-python",
   "name": "python",
   "nbconvert_exporter": "python",
   "pygments_lexer": "ipython3",
   "version": "3.8.6-final"
  }
 },
 "nbformat": 4,
 "nbformat_minor": 2
}