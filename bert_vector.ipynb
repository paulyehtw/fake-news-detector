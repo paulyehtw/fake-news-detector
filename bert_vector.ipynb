{
 "cells": [
  {
   "cell_type": "code",
   "execution_count": 1,
   "metadata": {},
   "outputs": [
    {
     "output_type": "stream",
     "name": "stderr",
     "text": [
      "I:\u001b[33mBERT_VEC\u001b[0m:[graph:opt: 33]:model config: /Users/Paul/Documents/GitHub/FakeNewsDetector/bert/chinese_L-12_H-768_A-12/bert_config.json\n",
      "I:\u001b[33mBERT_VEC\u001b[0m:[graph:opt: 39]:build graph...\n",
      "I:\u001b[33mBERT_VEC\u001b[0m:[graph:opt: 92]:load parameters from checkpoint...\n",
      "I:\u001b[33mBERT_VEC\u001b[0m:[graph:opt: 94]:freeze...\n",
      "INFO:tensorflow:Froze 181 variables.\n",
      "INFO:tensorflow:Converted 181 variables to const ops.\n",
      "I:\u001b[33mBERT_VEC\u001b[0m:[graph:opt: 97]:optimize...\n",
      "I:\u001b[33mBERT_VEC\u001b[0m:[graph:opt:106]:write graph to a tmp file: /Users/Paul/Documents/GitHub/FakeNewsDetector/bert/chinese_L-12_H-768_A-12/../tmp/result/graph\n",
      "INFO:tensorflow:Using config: {'_model_dir': '../tmp', '_tf_random_seed': None, '_save_summary_steps': 100, '_save_checkpoints_steps': None, '_save_checkpoints_secs': 600, '_session_config': gpu_options {\n",
      "  per_process_gpu_memory_fraction: 1.0\n",
      "  allow_growth: true\n",
      "}\n",
      "graph_options {\n",
      "  optimizer_options {\n",
      "    global_jit_level: ON_1\n",
      "  }\n",
      "}\n",
      ", '_keep_checkpoint_max': 5, '_keep_checkpoint_every_n_hours': 10000, '_log_step_count_steps': 100, '_train_distribute': None, '_device_fn': None, '_protocol': None, '_eval_distribute': None, '_experimental_distribute': None, '_service': None, '_cluster_spec': <tensorflow.python.training.server_lib.ClusterSpec object at 0x13fdb2370>, '_task_type': 'worker', '_task_id': 0, '_global_id_in_cluster': 0, '_master': '', '_evaluation_master': '', '_is_chief': True, '_num_ps_replicas': 0, '_num_worker_replicas': 1}\n",
      "INFO:tensorflow:Could not find trained model in model_dir: ../tmp, running initialization to predict.\n",
      "INFO:tensorflow:Calling model_fn.\n",
      "INFO:tensorflow:Done calling model_fn.\n",
      "INFO:tensorflow:Graph was finalized.\n"
     ]
    }
   ],
   "source": [
    "from bert.extract_feature import BertVector\n",
    "bv = BertVector()"
   ]
  },
  {
   "cell_type": "code",
   "execution_count": 2,
   "metadata": {},
   "outputs": [
    {
     "output_type": "stream",
     "name": "stdout",
     "text": [
      "Shape of data (4322, 6)\nNumber of rows :  4322\nNumber of columns :  6\n"
     ]
    }
   ],
   "source": [
    "import pickle\n",
    "import pandas as pd\n",
    "\n",
    "data = pd.read_pickle(\"./data_0104.pkl\")\n",
    "print(\"Shape of data\", data.shape) \n",
    "print(\"Number of rows : \", data.shape[0]) \n",
    "print(\"Number of columns : \", data.shape[1]) "
   ]
  },
  {
   "source": [
    "target_feature = 'title'\n",
    "data_set = data.filter([target_feature, 'label'])"
   ],
   "cell_type": "code",
   "metadata": {},
   "execution_count": 3,
   "outputs": []
  },
  {
   "cell_type": "code",
   "execution_count": 4,
   "metadata": {},
   "outputs": [
    {
     "output_type": "stream",
     "name": "stdout",
     "text": [
      "                                         title  label\n",
      "0                    口罩哪裡買 和敗口罩兩個官方帳號已經確認是釣魚帳號      1\n",
      "1                         皮蛋是用馬尿製成的 含鉛量多吃了還會致癌      1\n",
      "2  全面屍控免費官方貼圖 - 喪屍來啦！ line://shop/detail/19504      1\n",
      "3                         吃一包臺灣泡麵 ，就需肝臟解毒32天這謠      1\n",
      "4               因為當夜幕降臨時，人體系統變成酸性，體質的偵探能力也會著降低      1\n",
      "5                             泡麵含有防腐劑 吃太多會變木乃伊      1\n",
      "6                          挑男人沒別的，要挑疼你的 ！這小S說的      1\n",
      "7                         眼前的字不是字 是眼睛出問題還是心理有問      1\n",
      "8                       習近平夫人對高考分數發言 ，震驚整個國家教育      1\n",
      "9                    這是大賣場在打烊以後可能的景象 網路影片別急著轉發      1\n",
      "INFO:tensorflow:Running local_init_op.\n",
      "INFO:tensorflow:Done running local_init_op.\n"
     ]
    }
   ],
   "source": [
    "print(data_set.head(10))"
   ]
  },
  {
   "cell_type": "code",
   "execution_count": 5,
   "metadata": {},
   "outputs": [],
   "source": [
    "data_set_filtered = data_set[data_set[target_feature].notnull()]"
   ]
  },
  {
   "cell_type": "code",
   "execution_count": 6,
   "metadata": {
    "tags": []
   },
   "outputs": [],
   "source": [
    "import re\n",
    "for idx in range(0, data_set_filtered.shape[0]):\n",
    "    data_set_filtered[target_feature].iloc[idx] = re.sub(r\"[\\n\\t\\s]*\", \"\", data_set_filtered[target_feature].iloc[idx])"
   ]
  },
  {
   "cell_type": "code",
   "execution_count": 7,
   "metadata": {},
   "outputs": [
    {
     "output_type": "stream",
     "name": "stdout",
     "text": [
      "title           False\ntitle_vector    False\nlabel           False\ndtype: bool\n(4322, 3)\n"
     ]
    }
   ],
   "source": [
    "data_set_filtered.insert(1, target_feature + \"_vector\", 0) \n",
    "data_set_filtered[target_feature + \"_vector\"] = data_set_filtered[target_feature + \"_vector\"].astype(object)\n",
    "print(data_set_filtered.isnull().any())\n",
    "print(data_set_filtered.shape)"
   ]
  },
  {
   "cell_type": "code",
   "execution_count": 8,
   "metadata": {},
   "outputs": [
    {
     "output_type": "stream",
     "name": "stdout",
     "text": [
      "24 口罩哪裡買和敗口罩兩個官方帳號已經確認是釣魚帳號\n40 全面屍控免費官方貼圖-喪屍來啦！line://shop/detail/19504\n57 湯若望在明朝崇禎年間來到中國傳揚天主教，他精通天文、地理、數學、醫學當時中國的曆法已經暴露出諸多弊端，存在眾多偏差\n84 [集！在線等]新年集點活動開跑啦🎉活動頁任選集章換LINEPOINTS，200萬點換完為止！>https://lin.ee/EmbTx6I/crtw/AL/digest\n92 5家Costco、7家Target疫情大爆发上百员工确诊!城堡奥莱人挤人或成超级引爆点https://mp.weixin.qq.com/s/9IYWZVHEtWiJtK51I_fSgA\n106 平時可以用優酪乳洗澡嗎,現在越來越多的女性都開始重視與個人的皮膚狀態要想有個好的皮膚，平時的保養也是非常關鍵的就有部份女性會選擇洗牛奶浴，來使皮膚更加的白皙有活力那麼就有人會問，如果可以用優酪乳洗澡嗎效果會不會比\n271 民進黨在1986年成立之後短短三、五年內，事實上就已充滿蚊子、蒼蠅與蟑螂，開始效法舊國民黨的腐敗，貪婪程度更是青出於藍；以光速般的速度腐爛，但卻學到一身政治操弄與選舉致勝的高超本領，造謠抹黑，無惡不作，行事不擇手段；擅長設定議題，挑撥階級對立與族群仇恨，以捍衛民主自由與弱勢正義之名，行撈錢奪權之實尤有甚者，打從大約1998年開始，更是在國民黨黑金教父李登輝的大力合作與推動下(包括更早之前，大約八零年代末，由李登輝提供民進黨鉅額金錢以發展所謂本土路線)，展開最厲害的一項政治操弄法寶之戰略定位，亦即仇中反華；名為「愛台灣」，實則挑撥族群仇恨\n"
     ]
    },
    {
     "output_type": "execute_result",
     "data": {
      "text/plain": [
       "271"
      ]
     },
     "metadata": {},
     "execution_count": 8
    }
   ],
   "source": [
    "max_len = 0\n",
    "for title in data_set_filtered['title']:\n",
    "    if(len(title) > max_len):\n",
    "        max_len = len(title)\n",
    "        print(max_len, title)\n",
    "max_len"
   ]
  },
  {
   "cell_type": "code",
   "execution_count": 9,
   "metadata": {
    "tags": [
     "outputPrepend"
    ]
   },
   "outputs": [
    {
     "output_type": "stream",
     "name": "stdout",
     "text": [
      "身 [SEP]\n",
      "INFO:tensorflow:input_ids: 101 7344 6011 2166 3791 8038 4017 7937 3779 3188 4197 6857 7938 1962 4500 2218 6275 6275 4692 8024 1162 6366 974 3175 5183 1927 1001 749 8024 2215 1071 679 1003 6716 102 0 0 0 0 0 0 0 0 0 0 0 0 0 0 0 0 0 0 0 0 0 0 0 0 0 0 0 0 0 0 0 0 0 0 0 0 0 0 0 0 0 0 0 0 0 0 0 0 0 0 0 0 0 0 0 0 0 0 0 0 0 0 0 0 0\n",
      "INFO:tensorflow:input_mask: 1 1 1 1 1 1 1 1 1 1 1 1 1 1 1 1 1 1 1 1 1 1 1 1 1 1 1 1 1 1 1 1 1 1 1 0 0 0 0 0 0 0 0 0 0 0 0 0 0 0 0 0 0 0 0 0 0 0 0 0 0 0 0 0 0 0 0 0 0 0 0 0 0 0 0 0 0 0 0 0 0 0 0 0 0 0 0 0 0 0 0 0 0 0 0 0 0 0 0 0\n",
      "INFO:tensorflow:input_type_ids: 0 0 0 0 0 0 0 0 0 0 0 0 0 0 0 0 0 0 0 0 0 0 0 0 0 0 0 0 0 0 0 0 0 0 0 0 0 0 0 0 0 0 0 0 0 0 0 0 0 0 0 0 0 0 0 0 0 0 0 0 0 0 0 0 0 0 0 0 0 0 0 0 0 0 0 0 0 0 0 0 0 0 0 0 0 0 0 0 0 0 0 0 0 0 0 0 0 0 0 0\n",
      "Implementing BERT vectoring 99.61% \n",
      "INFO:tensorflow:*** Example ***\n",
      "INFO:tensorflow:unique_id: 0\n",
      "INFO:tensorflow:tokens: [CLS] 越 南 養 殖 的 巴 沙 魚 ， 台 灣 進 口 很 多 ， 但 這 種 魚 養 殖 在 湄 公 河 極 度 污 染 的 水 域 ， 不 但 含 重 金 屬 及 氯 酸 鉀 及 其 他 有 毒 物 質 ， 而 且 沒 甚 麼 營 養 ， 也 沒 有 一 般 魚 類 都 有 的 omega ##3 ， 吃 了 只 有 對 人 體 有 害 [SEP]\n",
      "INFO:tensorflow:input_ids: 101 6632 1298 7621 3658 4638 2349 3763 7797 8024 1378 4124 6868 1366 2523 1914 8024 852 6857 4934 7797 7621 3658 1762 3956 1062 3777 3513 2428 3738 3381 4638 3717 1818 8024 679 852 1419 7028 7032 2253 1350 3714 7000 7054 1350 1071 800 3300 3681 4289 6549 8024 5445 684 3760 4493 7938 4245 7621 8024 738 3760 3300 671 5663 7797 7546 6963 3300 4638 11938 8152 8024 1391 749 1372 3300 2205 782 7768 3300 2154 102 0 0 0 0 0 0 0 0 0 0 0 0 0 0 0 0\n",
      "INFO:tensorflow:input_mask: 1 1 1 1 1 1 1 1 1 1 1 1 1 1 1 1 1 1 1 1 1 1 1 1 1 1 1 1 1 1 1 1 1 1 1 1 1 1 1 1 1 1 1 1 1 1 1 1 1 1 1 1 1 1 1 1 1 1 1 1 1 1 1 1 1 1 1 1 1 1 1 1 1 1 1 1 1 1 1 1 1 1 1 1 0 0 0 0 0 0 0 0 0 0 0 0 0 0 0 0\n",
      "INFO:tensorflow:input_type_ids: 0 0 0 0 0 0 0 0 0 0 0 0 0 0 0 0 0 0 0 0 0 0 0 0 0 0 0 0 0 0 0 0 0 0 0 0 0 0 0 0 0 0 0 0 0 0 0 0 0 0 0 0 0 0 0 0 0 0 0 0 0 0 0 0 0 0 0 0 0 0 0 0 0 0 0 0 0 0 0 0 0 0 0 0 0 0 0 0 0 0 0 0 0 0 0 0 0 0 0 0\n",
      "Implementing BERT vectoring 99.63% \n",
      "INFO:tensorflow:*** Example ***\n",
      "INFO:tensorflow:unique_id: 0\n",
      "INFO:tensorflow:tokens: [CLS] 這 是 越 南 出 口 的 養 殖 巴 沙 魚 （ bas ##af ##ish 博 士 巨 鯰 ） 都 是 在 嚴 重 污 染 的 水 域 使 用 抗 生 素 與 生 長 激 素 快 速 成 長 的 美 國 早 已 禁 止 進 口 千 萬 別 吃 [SEP]\n",
      "INFO:tensorflow:input_ids: 101 6857 3221 6632 1298 1139 1366 4638 7621 3658 2349 3763 7797 8020 10952 11472 10574 1300 1894 2342 7810 8021 6963 3221 1762 1713 7028 3738 3381 4638 3717 1818 886 4500 2834 4495 5162 5645 4495 7269 4080 5162 2571 6862 2768 7269 4638 5401 1751 3193 2347 4881 3632 6868 1366 1283 5857 1162 1391 102 0 0 0 0 0 0 0 0 0 0 0 0 0 0 0 0 0 0 0 0 0 0 0 0 0 0 0 0 0 0 0 0 0 0 0 0 0 0 0 0\n",
      "INFO:tensorflow:input_mask: 1 1 1 1 1 1 1 1 1 1 1 1 1 1 1 1 1 1 1 1 1 1 1 1 1 1 1 1 1 1 1 1 1 1 1 1 1 1 1 1 1 1 1 1 1 1 1 1 1 1 1 1 1 1 1 1 1 1 1 1 0 0 0 0 0 0 0 0 0 0 0 0 0 0 0 0 0 0 0 0 0 0 0 0 0 0 0 0 0 0 0 0 0 0 0 0 0 0 0 0\n",
      "INFO:tensorflow:input_type_ids: 0 0 0 0 0 0 0 0 0 0 0 0 0 0 0 0 0 0 0 0 0 0 0 0 0 0 0 0 0 0 0 0 0 0 0 0 0 0 0 0 0 0 0 0 0 0 0 0 0 0 0 0 0 0 0 0 0 0 0 0 0 0 0 0 0 0 0 0 0 0 0 0 0 0 0 0 0 0 0 0 0 0 0 0 0 0 0 0 0 0 0 0 0 0 0 0 0 0 0 0\n",
      "Implementing BERT vectoring 99.65% \n",
      "INFO:tensorflow:*** Example ***\n",
      "INFO:tensorflow:unique_id: 0\n",
      "INFO:tensorflow:tokens: [CLS] 大 陸 水 災 嚴 重 - 把 神 話 故 事 變 成 事 實 了 ， 鎮 江 金 山 寺 被 長 江 水 淹 沒 了 ， 大 水 漫 入 金 山 寺 ， 神 話 變 現 實 了 ， 大 水 沖 了 龍 王 廟 ， 水 淹 金 山 寺 ， 這 些 預 言 現 在 都 驗 證 了 ！ [SEP]\n",
      "INFO:tensorflow:input_ids: 101 1920 7380 3717 4134 1713 7028 118 2828 4868 6282 3125 752 6365 2768 752 2179 749 8024 7120 3736 7032 2255 2191 6158 7269 3736 3717 3922 3760 749 8024 1920 3717 4035 1057 7032 2255 2191 8024 4868 6282 6365 4412 2179 749 8024 1920 3717 3762 749 7983 4374 2448 8024 3717 3922 7032 2255 2191 8024 6857 763 7521 6241 4412 1762 6963 7710 6349 749 8013 102 0 0 0 0 0 0 0 0 0 0 0 0 0 0 0 0 0 0 0 0 0 0 0 0 0 0 0\n",
      "INFO:tensorflow:input_mask: 1 1 1 1 1 1 1 1 1 1 1 1 1 1 1 1 1 1 1 1 1 1 1 1 1 1 1 1 1 1 1 1 1 1 1 1 1 1 1 1 1 1 1 1 1 1 1 1 1 1 1 1 1 1 1 1 1 1 1 1 1 1 1 1 1 1 1 1 1 1 1 1 1 0 0 0 0 0 0 0 0 0 0 0 0 0 0 0 0 0 0 0 0 0 0 0 0 0 0 0\n",
      "INFO:tensorflow:input_type_ids: 0 0 0 0 0 0 0 0 0 0 0 0 0 0 0 0 0 0 0 0 0 0 0 0 0 0 0 0 0 0 0 0 0 0 0 0 0 0 0 0 0 0 0 0 0 0 0 0 0 0 0 0 0 0 0 0 0 0 0 0 0 0 0 0 0 0 0 0 0 0 0 0 0 0 0 0 0 0 0 0 0 0 0 0 0 0 0 0 0 0 0 0 0 0 0 0 0 0 0 0\n",
      "Implementing BERT vectoring 99.68% \n",
      "INFO:tensorflow:*** Example ***\n",
      "INFO:tensorflow:unique_id: 0\n",
      "INFO:tensorflow:tokens: [CLS] 李 俊 英 教 授 表 示 ： 2020 真 正 的 天 道 輪 回 ， 我 們 遇 到 了 60 年 小 輪 回 的 庚 子 年 ， 更 遇 到 了 180 年 週 期 白 元 年 ， 太 陽 ， 地 球 ， 木 星 ， 土 星 ， 和 銀 河 面 並 到 了 一 條 線 ， 讓 地 球 引 力 場 ， 磁 場 紊 亂 ， 太 陽 風 、 等 離 子 流 更 猛 烈 撲 向 地 球 可 能 全 球 [SEP]\n",
      "INFO:tensorflow:input_ids: 101 3330 916 5739 3136 2956 6134 4850 8038 8439 4696 3633 4638 1921 6887 6743 1726 8024 2769 947 6878 1168 749 8183 2399 2207 6743 1726 4638 2423 2094 2399 8024 3291 6878 1168 749 8420 2399 6867 3309 4635 1039 2399 8024 1922 7382 8024 1765 4413 8024 3312 3215 8024 1759 3215 8024 1469 7065 3777 7481 699 1168 749 671 3454 5221 8024 6366 1765 4413 2471 1213 1842 8024 4828 1842 5150 748 8024 1922 7382 7591 510 5023 7431 2094 3837 3291 4338 4164 3067 1403 1765 4413 1377 5543 1059 4413 102\n",
      "INFO:tensorflow:input_mask: 1 1 1 1 1 1 1 1 1 1 1 1 1 1 1 1 1 1 1 1 1 1 1 1 1 1 1 1 1 1 1 1 1 1 1 1 1 1 1 1 1 1 1 1 1 1 1 1 1 1 1 1 1 1 1 1 1 1 1 1 1 1 1 1 1 1 1 1 1 1 1 1 1 1 1 1 1 1 1 1 1 1 1 1 1 1 1 1 1 1 1 1 1 1 1 1 1 1 1 1\n",
      "INFO:tensorflow:input_type_ids: 0 0 0 0 0 0 0 0 0 0 0 0 0 0 0 0 0 0 0 0 0 0 0 0 0 0 0 0 0 0 0 0 0 0 0 0 0 0 0 0 0 0 0 0 0 0 0 0 0 0 0 0 0 0 0 0 0 0 0 0 0 0 0 0 0 0 0 0 0 0 0 0 0 0 0 0 0 0 0 0 0 0 0 0 0 0 0 0 0 0 0 0 0 0 0 0 0 0 0 0\n",
      "Implementing BERT vectoring 99.7% \n",
      "INFO:tensorflow:*** Example ***\n",
      "INFO:tensorflow:unique_id: 0\n",
      "INFO:tensorflow:tokens: [CLS] 騰 訊 公 益 已 經 簽 了 合 同 ！ 只 要 這 條 訊 息 被 轉 一 次 ， 騰 訊 公 益 就 會 向 何 叡 君 捐 出 1 毛 錢 ， 一 起 轉 到 100 萬 吧 ！ 就 有 10 萬 元 了 ！ [SEP]\n",
      "INFO:tensorflow:input_ids: 101 7702 6244 1062 4660 2347 5195 5087 749 1394 1398 8013 1372 6206 6857 3454 6244 2622 6158 6752 671 3613 8024 7702 6244 1062 4660 2218 3298 1403 862 1364 1409 2935 1139 122 3688 7092 8024 671 6629 6752 1168 8135 5857 1416 8013 2218 3300 8108 5857 1039 749 8013 102 0 0 0 0 0 0 0 0 0 0 0 0 0 0 0 0 0 0 0 0 0 0 0 0 0 0 0 0 0 0 0 0 0 0 0 0 0 0 0 0 0 0 0 0 0\n",
      "INFO:tensorflow:input_mask: 1 1 1 1 1 1 1 1 1 1 1 1 1 1 1 1 1 1 1 1 1 1 1 1 1 1 1 1 1 1 1 1 1 1 1 1 1 1 1 1 1 1 1 1 1 1 1 1 1 1 1 1 1 1 1 0 0 0 0 0 0 0 0 0 0 0 0 0 0 0 0 0 0 0 0 0 0 0 0 0 0 0 0 0 0 0 0 0 0 0 0 0 0 0 0 0 0 0 0 0\n",
      "INFO:tensorflow:input_type_ids: 0 0 0 0 0 0 0 0 0 0 0 0 0 0 0 0 0 0 0 0 0 0 0 0 0 0 0 0 0 0 0 0 0 0 0 0 0 0 0 0 0 0 0 0 0 0 0 0 0 0 0 0 0 0 0 0 0 0 0 0 0 0 0 0 0 0 0 0 0 0 0 0 0 0 0 0 0 0 0 0 0 0 0 0 0 0 0 0 0 0 0 0 0 0 0 0 0 0 0 0\n",
      "Implementing BERT vectoring 99.72% \n",
      "INFO:tensorflow:*** Example ***\n",
      "INFO:tensorflow:unique_id: 0\n",
      "INFO:tensorflow:tokens: [CLS] 雖 然 騰 訊 公 益 官 方 早 澄 清 未 發 布 此 訊 息 ， 但 這 種 換 湯 不 換 藥 的 技 倆 ， 仍 騙 倒 不 少 願 意 幫 助 弱 勢 的 好 心 網 友 [SEP]\n",
      "INFO:tensorflow:input_ids: 101 7426 4197 7702 6244 1062 4660 2135 3175 3193 4067 3926 3313 4634 2357 3634 6244 2622 8024 852 6857 4934 2994 3966 679 2994 5973 4638 2825 941 8024 793 7700 948 679 2208 7544 2692 2396 1221 2483 1248 4638 1962 2552 5206 1351 102 0 0 0 0 0 0 0 0 0 0 0 0 0 0 0 0 0 0 0 0 0 0 0 0 0 0 0 0 0 0 0 0 0 0 0 0 0 0 0 0 0 0 0 0 0 0 0 0 0 0 0 0\n",
      "INFO:tensorflow:input_mask: 1 1 1 1 1 1 1 1 1 1 1 1 1 1 1 1 1 1 1 1 1 1 1 1 1 1 1 1 1 1 1 1 1 1 1 1 1 1 1 1 1 1 1 1 1 1 1 1 0 0 0 0 0 0 0 0 0 0 0 0 0 0 0 0 0 0 0 0 0 0 0 0 0 0 0 0 0 0 0 0 0 0 0 0 0 0 0 0 0 0 0 0 0 0 0 0 0 0 0 0\n",
      "INFO:tensorflow:input_type_ids: 0 0 0 0 0 0 0 0 0 0 0 0 0 0 0 0 0 0 0 0 0 0 0 0 0 0 0 0 0 0 0 0 0 0 0 0 0 0 0 0 0 0 0 0 0 0 0 0 0 0 0 0 0 0 0 0 0 0 0 0 0 0 0 0 0 0 0 0 0 0 0 0 0 0 0 0 0 0 0 0 0 0 0 0 0 0 0 0 0 0 0 0 0 0 0 0 0 0 0 0\n",
      "Implementing BERT vectoring 99.75% \n",
      "INFO:tensorflow:*** Example ***\n",
      "INFO:tensorflow:unique_id: 0\n",
      "INFO:tensorflow:tokens: [CLS] 每 隻 雞 每 天 注 入 三 劑 合 成 類 固 醇 、 抗 生 素 和 生 長 激 素 ， 持 續 30 天 ， 結 果 只 使 它 們 增 肥 這 些 雞 必 須 在 30 至 40 天 內 没 有 出 售 就 會 被 上 述 有 毒 ， 混 合 物 轟 擊 致 死 所 有 腫 瘤 科 醫 生 都 知 道 ， 這 些 雞 就 是 癌 細 胞 每 四 個 人 中 就 有 一 個 人 得 了 [SEP]\n",
      "INFO:tensorflow:input_ids: 101 3680 7407 7430 3680 1921 3800 1057 676 1212 1394 2768 7546 1743 7003 510 2834 4495 5162 1469 4495 7269 4080 5162 8024 2898 5265 8114 1921 8024 5178 3362 1372 886 2124 947 1872 5503 6857 763 7430 2553 7519 1762 8114 5635 8164 1921 1058 3766 3300 1139 1545 2218 3298 6158 677 6835 3300 3681 8024 3921 1394 4289 6755 3080 5636 3647 2792 3300 5584 4606 4906 7015 4495 6963 4761 6887 8024 6857 763 7430 2218 3221 4617 5169 5528 3680 1724 943 782 704 2218 3300 671 943 782 2533 749 102\n",
      "INFO:tensorflow:input_mask: 1 1 1 1 1 1 1 1 1 1 1 1 1 1 1 1 1 1 1 1 1 1 1 1 1 1 1 1 1 1 1 1 1 1 1 1 1 1 1 1 1 1 1 1 1 1 1 1 1 1 1 1 1 1 1 1 1 1 1 1 1 1 1 1 1 1 1 1 1 1 1 1 1 1 1 1 1 1 1 1 1 1 1 1 1 1 1 1 1 1 1 1 1 1 1 1 1 1 1 1\n",
      "INFO:tensorflow:input_type_ids: 0 0 0 0 0 0 0 0 0 0 0 0 0 0 0 0 0 0 0 0 0 0 0 0 0 0 0 0 0 0 0 0 0 0 0 0 0 0 0 0 0 0 0 0 0 0 0 0 0 0 0 0 0 0 0 0 0 0 0 0 0 0 0 0 0 0 0 0 0 0 0 0 0 0 0 0 0 0 0 0 0 0 0 0 0 0 0 0 0 0 0 0 0 0 0 0 0 0 0 0\n",
      "Implementing BERT vectoring 99.77% \n",
      "INFO:tensorflow:*** Example ***\n",
      "INFO:tensorflow:unique_id: 0\n",
      "INFO:tensorflow:tokens: [CLS] 以 色 列 研 究 顯 示 ： 經 「 病 毒 株 基 因 序 列 組 」 比 對 ， 70 ％ 「 新 冠 病 毒 株 」 源 自 美 國 ！ 另 30 ％ 來 源 分 別 為 英 國 、 法 國 、 比 利 時 、 義 大 利 等 歐 洲 國 家 ！ [SEP]\n",
      "INFO:tensorflow:input_ids: 101 809 5682 1154 4777 4955 7549 4850 8038 5195 519 4567 3681 3415 1825 1728 2415 1154 5175 520 3683 2205 8024 8203 8017 519 3173 1094 4567 3681 3415 520 3975 5632 5401 1751 8013 1369 8114 8017 889 3975 1146 1162 4158 5739 1751 510 3791 1751 510 3683 1164 3229 510 5412 1920 1164 5023 3627 3828 1751 2157 8013 102 0 0 0 0 0 0 0 0 0 0 0 0 0 0 0 0 0 0 0 0 0 0 0 0 0 0 0 0 0 0 0 0 0 0 0\n",
      "INFO:tensorflow:input_mask: 1 1 1 1 1 1 1 1 1 1 1 1 1 1 1 1 1 1 1 1 1 1 1 1 1 1 1 1 1 1 1 1 1 1 1 1 1 1 1 1 1 1 1 1 1 1 1 1 1 1 1 1 1 1 1 1 1 1 1 1 1 1 1 1 1 0 0 0 0 0 0 0 0 0 0 0 0 0 0 0 0 0 0 0 0 0 0 0 0 0 0 0 0 0 0 0 0 0 0 0\n",
      "INFO:tensorflow:input_type_ids: 0 0 0 0 0 0 0 0 0 0 0 0 0 0 0 0 0 0 0 0 0 0 0 0 0 0 0 0 0 0 0 0 0 0 0 0 0 0 0 0 0 0 0 0 0 0 0 0 0 0 0 0 0 0 0 0 0 0 0 0 0 0 0 0 0 0 0 0 0 0 0 0 0 0 0 0 0 0 0 0 0 0 0 0 0 0 0 0 0 0 0 0 0 0 0 0 0 0 0 0\n",
      "Implementing BERT vectoring 99.79% \n",
      "INFO:tensorflow:*** Example ***\n",
      "INFO:tensorflow:unique_id: 0\n",
      "INFO:tensorflow:tokens: [CLS] 特 拉 維 夫 大 學 進 化 病 毒 學 家 史 騰 （ adi ##ster ##n ） ： 「 從 美 國 返 回 以 色 列 的 人 產 生 了 傳 播 鏈 」 ， 很 明 顯 的 ， 美 國 就 是 「 病 毒 感 染 源 不 斷 循 環 感 染 」 的 例 證 ！ [SEP]\n",
      "INFO:tensorflow:input_ids: 101 4294 2861 5204 1923 1920 2119 6868 1265 4567 3681 2119 2157 1380 7702 8020 11655 8996 8171 8021 8038 519 2537 5401 1751 6819 1726 809 5682 1154 4638 782 4496 4495 749 1001 3064 7122 520 8024 2523 3209 7549 4638 8024 5401 1751 2218 3221 519 4567 3681 2697 3381 3975 679 3174 2542 4472 2697 3381 520 4638 891 6349 8013 102 0 0 0 0 0 0 0 0 0 0 0 0 0 0 0 0 0 0 0 0 0 0 0 0 0 0 0 0 0 0 0 0 0\n",
      "INFO:tensorflow:input_mask: 1 1 1 1 1 1 1 1 1 1 1 1 1 1 1 1 1 1 1 1 1 1 1 1 1 1 1 1 1 1 1 1 1 1 1 1 1 1 1 1 1 1 1 1 1 1 1 1 1 1 1 1 1 1 1 1 1 1 1 1 1 1 1 1 1 1 1 0 0 0 0 0 0 0 0 0 0 0 0 0 0 0 0 0 0 0 0 0 0 0 0 0 0 0 0 0 0 0 0 0\n",
      "INFO:tensorflow:input_type_ids: 0 0 0 0 0 0 0 0 0 0 0 0 0 0 0 0 0 0 0 0 0 0 0 0 0 0 0 0 0 0 0 0 0 0 0 0 0 0 0 0 0 0 0 0 0 0 0 0 0 0 0 0 0 0 0 0 0 0 0 0 0 0 0 0 0 0 0 0 0 0 0 0 0 0 0 0 0 0 0 0 0 0 0 0 0 0 0 0 0 0 0 0 0 0 0 0 0 0 0 0\n",
      "Implementing BERT vectoring 99.81% \n",
      "INFO:tensorflow:*** Example ***\n",
      "INFO:tensorflow:unique_id: 0\n",
      "INFO:tensorflow:tokens: [CLS] 以 色 列 《 耶 路 撒 冷 郵 報 》 報 導 ， 以 色 列 特 拉 維 夫 大 學 （ tel ##av ##i ##v ##un ##ive ##rs ##ity ） 與 以 色 列 其 他 大 學 18 公 布 的 聯 合 研 究 成 果 指 出 ， 根 據 200 多 名 以 色 列 本 地 和 全 球 其 他 各 地 約 470 ##0 名 新 冠 患 者 的 基 因 組 序 列 進 行 比 對 後 發 現 ， 約 70 % 的 以 [SEP]\n",
      "INFO:tensorflow:input_ids: 101 809 5682 1154 517 5456 6662 3054 1107 6960 1841 518 1841 2206 8024 809 5682 1154 4294 2861 5204 1923 1920 2119 8020 11108 9876 8169 8225 8829 8857 8640 8863 8021 5645 809 5682 1154 1071 800 1920 2119 8123 1062 2357 4638 5474 1394 4777 4955 2768 3362 2900 1139 8024 3418 3087 8185 1914 1399 809 5682 1154 3315 1765 1469 1059 4413 1071 800 1392 1765 5147 10658 8129 1399 3173 1094 2642 5442 4638 1825 1728 5175 2415 1154 6868 6121 3683 2205 2527 4634 4412 8024 5147 8203 110 4638 809 102\n",
      "INFO:tensorflow:input_mask: 1 1 1 1 1 1 1 1 1 1 1 1 1 1 1 1 1 1 1 1 1 1 1 1 1 1 1 1 1 1 1 1 1 1 1 1 1 1 1 1 1 1 1 1 1 1 1 1 1 1 1 1 1 1 1 1 1 1 1 1 1 1 1 1 1 1 1 1 1 1 1 1 1 1 1 1 1 1 1 1 1 1 1 1 1 1 1 1 1 1 1 1 1 1 1 1 1 1 1 1\n",
      "INFO:tensorflow:input_type_ids: 0 0 0 0 0 0 0 0 0 0 0 0 0 0 0 0 0 0 0 0 0 0 0 0 0 0 0 0 0 0 0 0 0 0 0 0 0 0 0 0 0 0 0 0 0 0 0 0 0 0 0 0 0 0 0 0 0 0 0 0 0 0 0 0 0 0 0 0 0 0 0 0 0 0 0 0 0 0 0 0 0 0 0 0 0 0 0 0 0 0 0 0 0 0 0 0 0 0 0 0\n",
      "Implementing BERT vectoring 99.84% \n",
      "INFO:tensorflow:*** Example ***\n",
      "INFO:tensorflow:unique_id: 0\n",
      "INFO:tensorflow:tokens: [CLS] 約 70 % 的 以 色 列 新 冠 病 例 感 染 的 病 毒 毒 株 來 自 美 國 [SEP]\n",
      "INFO:tensorflow:input_ids: 101 5147 8203 110 4638 809 5682 1154 3173 1094 4567 891 2697 3381 4638 4567 3681 3681 3415 889 5632 5401 1751 102 0 0 0 0 0 0 0 0 0 0 0 0 0 0 0 0 0 0 0 0 0 0 0 0 0 0 0 0 0 0 0 0 0 0 0 0 0 0 0 0 0 0 0 0 0 0 0 0 0 0 0 0 0 0 0 0 0 0 0 0 0 0 0 0 0 0 0 0 0 0 0 0 0 0 0 0\n",
      "INFO:tensorflow:input_mask: 1 1 1 1 1 1 1 1 1 1 1 1 1 1 1 1 1 1 1 1 1 1 1 1 0 0 0 0 0 0 0 0 0 0 0 0 0 0 0 0 0 0 0 0 0 0 0 0 0 0 0 0 0 0 0 0 0 0 0 0 0 0 0 0 0 0 0 0 0 0 0 0 0 0 0 0 0 0 0 0 0 0 0 0 0 0 0 0 0 0 0 0 0 0 0 0 0 0 0 0\n",
      "INFO:tensorflow:input_type_ids: 0 0 0 0 0 0 0 0 0 0 0 0 0 0 0 0 0 0 0 0 0 0 0 0 0 0 0 0 0 0 0 0 0 0 0 0 0 0 0 0 0 0 0 0 0 0 0 0 0 0 0 0 0 0 0 0 0 0 0 0 0 0 0 0 0 0 0 0 0 0 0 0 0 0 0 0 0 0 0 0 0 0 0 0 0 0 0 0 0 0 0 0 0 0 0 0 0 0 0 0\n",
      "Implementing BERT vectoring 99.86% \n",
      "INFO:tensorflow:*** Example ***\n",
      "INFO:tensorflow:unique_id: 0\n",
      "INFO:tensorflow:tokens: [CLS] 網 傳 影 片 宣 稱 「 日 本 九 州 熊 本 縣 的 超 級 大 水 災 ， 慘 兮 兮 啊 ！ 」 [SEP]\n",
      "INFO:tensorflow:input_ids: 101 5206 1001 2512 4275 2146 4935 519 3189 3315 736 2336 4220 3315 5238 4638 6631 5159 1920 3717 4134 8024 2711 1064 1064 1557 8013 520 102 0 0 0 0 0 0 0 0 0 0 0 0 0 0 0 0 0 0 0 0 0 0 0 0 0 0 0 0 0 0 0 0 0 0 0 0 0 0 0 0 0 0 0 0 0 0 0 0 0 0 0 0 0 0 0 0 0 0 0 0 0 0 0 0 0 0 0 0 0 0 0\n",
      "INFO:tensorflow:input_mask: 1 1 1 1 1 1 1 1 1 1 1 1 1 1 1 1 1 1 1 1 1 1 1 1 1 1 1 1 1 0 0 0 0 0 0 0 0 0 0 0 0 0 0 0 0 0 0 0 0 0 0 0 0 0 0 0 0 0 0 0 0 0 0 0 0 0 0 0 0 0 0 0 0 0 0 0 0 0 0 0 0 0 0 0 0 0 0 0 0 0 0 0 0 0 0 0 0 0 0 0\n",
      "INFO:tensorflow:input_type_ids: 0 0 0 0 0 0 0 0 0 0 0 0 0 0 0 0 0 0 0 0 0 0 0 0 0 0 0 0 0 0 0 0 0 0 0 0 0 0 0 0 0 0 0 0 0 0 0 0 0 0 0 0 0 0 0 0 0 0 0 0 0 0 0 0 0 0 0 0 0 0 0 0 0 0 0 0 0 0 0 0 0 0 0 0 0 0 0 0 0 0 0 0 0 0 0 0 0 0 0 0\n",
      "Implementing BERT vectoring 99.88% \n",
      "INFO:tensorflow:*** Example ***\n",
      "INFO:tensorflow:unique_id: 0\n",
      "INFO:tensorflow:tokens: [CLS] 振 興 卷 千 萬 不 要 折 起 來 ， 也 不 能 有 髒 污 ， 否 則 銀 行 會 拒 收 ， 因 此 店 家 也 會 拒 收 有 折 痕 或 [UNK] 損 的 振 興 卷 [SEP]\n",
      "INFO:tensorflow:input_ids: 101 2920 5646 1318 1283 5857 679 6206 2835 6629 889 8024 738 679 5543 3300 7766 3738 8024 1415 1179 7065 6121 3298 2867 3119 8024 1728 3634 2421 2157 738 3298 2867 3119 3300 2835 4575 2772 100 3010 4638 2920 5646 1318 102 0 0 0 0 0 0 0 0 0 0 0 0 0 0 0 0 0 0 0 0 0 0 0 0 0 0 0 0 0 0 0 0 0 0 0 0 0 0 0 0 0 0 0 0 0 0 0 0 0 0 0 0 0 0\n",
      "INFO:tensorflow:input_mask: 1 1 1 1 1 1 1 1 1 1 1 1 1 1 1 1 1 1 1 1 1 1 1 1 1 1 1 1 1 1 1 1 1 1 1 1 1 1 1 1 1 1 1 1 1 1 0 0 0 0 0 0 0 0 0 0 0 0 0 0 0 0 0 0 0 0 0 0 0 0 0 0 0 0 0 0 0 0 0 0 0 0 0 0 0 0 0 0 0 0 0 0 0 0 0 0 0 0 0 0\n",
      "INFO:tensorflow:input_type_ids: 0 0 0 0 0 0 0 0 0 0 0 0 0 0 0 0 0 0 0 0 0 0 0 0 0 0 0 0 0 0 0 0 0 0 0 0 0 0 0 0 0 0 0 0 0 0 0 0 0 0 0 0 0 0 0 0 0 0 0 0 0 0 0 0 0 0 0 0 0 0 0 0 0 0 0 0 0 0 0 0 0 0 0 0 0 0 0 0 0 0 0 0 0 0 0 0 0 0 0 0\n",
      "Implementing BERT vectoring 99.91% \n",
      "INFO:tensorflow:*** Example ***\n",
      "INFO:tensorflow:unique_id: 0\n",
      "INFO:tensorflow:tokens: [CLS] 喝 檸 檬 汁 水 ， 可 以 減 少 體 內 酸 性 ， 可 以 慢 慢 調 整 體 內 酸 鹼 值 [SEP]\n",
      "INFO:tensorflow:input_ids: 101 1600 3600 3597 3723 3717 8024 1377 809 3938 2208 7768 1058 7000 2595 8024 1377 809 2714 2714 6310 3146 7768 1058 7000 7920 966 102 0 0 0 0 0 0 0 0 0 0 0 0 0 0 0 0 0 0 0 0 0 0 0 0 0 0 0 0 0 0 0 0 0 0 0 0 0 0 0 0 0 0 0 0 0 0 0 0 0 0 0 0 0 0 0 0 0 0 0 0 0 0 0 0 0 0 0 0 0 0 0 0\n",
      "INFO:tensorflow:input_mask: 1 1 1 1 1 1 1 1 1 1 1 1 1 1 1 1 1 1 1 1 1 1 1 1 1 1 1 1 0 0 0 0 0 0 0 0 0 0 0 0 0 0 0 0 0 0 0 0 0 0 0 0 0 0 0 0 0 0 0 0 0 0 0 0 0 0 0 0 0 0 0 0 0 0 0 0 0 0 0 0 0 0 0 0 0 0 0 0 0 0 0 0 0 0 0 0 0 0 0 0\n",
      "INFO:tensorflow:input_type_ids: 0 0 0 0 0 0 0 0 0 0 0 0 0 0 0 0 0 0 0 0 0 0 0 0 0 0 0 0 0 0 0 0 0 0 0 0 0 0 0 0 0 0 0 0 0 0 0 0 0 0 0 0 0 0 0 0 0 0 0 0 0 0 0 0 0 0 0 0 0 0 0 0 0 0 0 0 0 0 0 0 0 0 0 0 0 0 0 0 0 0 0 0 0 0 0 0 0 0 0 0\n",
      "Implementing BERT vectoring 99.93% \n",
      "INFO:tensorflow:*** Example ***\n",
      "INFO:tensorflow:unique_id: 0\n",
      "INFO:tensorflow:tokens: [CLS] 林 口 長 庚 內 科 很 多 醫 生 都 被 隔 離 中 ， 還 有 之 前 高 雄 艦 艇 官 兵 也 在 隔 離 中 ， 而 且 都 是 本 土 感 染 ， 但 新 聞 都 被 封 鎖 ， 國 人 不 知 情 [SEP]\n",
      "INFO:tensorflow:input_ids: 101 3360 1366 7269 2423 1058 4906 2523 1914 7015 4495 6963 6158 7392 7431 704 8024 6917 3300 722 1184 7770 7413 5677 5673 2135 1070 738 1762 7392 7431 704 8024 5445 684 6963 3221 3315 1759 2697 3381 8024 852 3173 5472 6963 6158 2196 7115 8024 1751 782 679 4761 2658 102 0 0 0 0 0 0 0 0 0 0 0 0 0 0 0 0 0 0 0 0 0 0 0 0 0 0 0 0 0 0 0 0 0 0 0 0 0 0 0 0 0 0 0 0\n",
      "INFO:tensorflow:input_mask: 1 1 1 1 1 1 1 1 1 1 1 1 1 1 1 1 1 1 1 1 1 1 1 1 1 1 1 1 1 1 1 1 1 1 1 1 1 1 1 1 1 1 1 1 1 1 1 1 1 1 1 1 1 1 1 1 0 0 0 0 0 0 0 0 0 0 0 0 0 0 0 0 0 0 0 0 0 0 0 0 0 0 0 0 0 0 0 0 0 0 0 0 0 0 0 0 0 0 0 0\n",
      "INFO:tensorflow:input_type_ids: 0 0 0 0 0 0 0 0 0 0 0 0 0 0 0 0 0 0 0 0 0 0 0 0 0 0 0 0 0 0 0 0 0 0 0 0 0 0 0 0 0 0 0 0 0 0 0 0 0 0 0 0 0 0 0 0 0 0 0 0 0 0 0 0 0 0 0 0 0 0 0 0 0 0 0 0 0 0 0 0 0 0 0 0 0 0 0 0 0 0 0 0 0 0 0 0 0 0 0 0\n",
      "Implementing BERT vectoring 99.95% \n",
      "INFO:tensorflow:*** Example ***\n",
      "INFO:tensorflow:unique_id: 0\n",
      "INFO:tensorflow:tokens: [CLS] 法 國 政 府 宣 布 家 長 帶 孩 子 去 遊 樂 園 或 人 多 的 地 方 時 ， 要 為 孩 子 拍 張 當 天 的 全 身 像 ， 包 括 衣 服 ， 「 鞋 子 是 重 點 ！ 」 一 旦 孩 子 找 不 到 了 ， 可 以 讓 工 作 人 員 憑 照 片 留 意 [SEP]\n",
      "INFO:tensorflow:input_ids: 101 3791 1751 3124 2424 2146 2357 2157 7269 2380 2111 2094 1343 6879 3556 1754 2772 782 1914 4638 1765 3175 3229 8024 6206 4158 2111 2094 2864 2484 4534 1921 4638 1059 6716 1008 8024 1259 2886 6132 3302 8024 519 7490 2094 3221 7028 7953 8013 520 671 3190 2111 2094 2823 679 1168 749 8024 1377 809 6366 2339 868 782 1519 2731 4212 4275 4522 2692 102 0 0 0 0 0 0 0 0 0 0 0 0 0 0 0 0 0 0 0 0 0 0 0 0 0 0 0 0\n",
      "INFO:tensorflow:input_mask: 1 1 1 1 1 1 1 1 1 1 1 1 1 1 1 1 1 1 1 1 1 1 1 1 1 1 1 1 1 1 1 1 1 1 1 1 1 1 1 1 1 1 1 1 1 1 1 1 1 1 1 1 1 1 1 1 1 1 1 1 1 1 1 1 1 1 1 1 1 1 1 1 0 0 0 0 0 0 0 0 0 0 0 0 0 0 0 0 0 0 0 0 0 0 0 0 0 0 0 0\n",
      "INFO:tensorflow:input_type_ids: 0 0 0 0 0 0 0 0 0 0 0 0 0 0 0 0 0 0 0 0 0 0 0 0 0 0 0 0 0 0 0 0 0 0 0 0 0 0 0 0 0 0 0 0 0 0 0 0 0 0 0 0 0 0 0 0 0 0 0 0 0 0 0 0 0 0 0 0 0 0 0 0 0 0 0 0 0 0 0 0 0 0 0 0 0 0 0 0 0 0 0 0 0 0 0 0 0 0 0 0\n",
      "Implementing BERT vectoring 99.98% \n",
      "INFO:tensorflow:*** Example ***\n",
      "INFO:tensorflow:unique_id: 0\n",
      "INFO:tensorflow:tokens: [CLS] 有 一 位 小 女 孩 在 法 國 迪 士 尼 走 失 ， 工 作 人 員 在 出 口 處 發 現 了 被 偷 走 的 小 女 孩 ， 長 髮 被 剪 短 ， 換 了 件 外 衣 ， 只 有 鞋 没 換 因 為 歹 徒 要 預 備 合 適 的 鞋 並 不 容 易 歡 迎 複 製 貼 上 分 享 [SEP]\n",
      "INFO:tensorflow:input_ids: 101 3300 671 855 2207 1957 2111 1762 3791 1751 6832 1894 2225 6624 1927 8024 2339 868 782 1519 1762 1139 1366 5993 4634 4412 749 6158 982 6624 4638 2207 1957 2111 8024 7269 7773 6158 1198 4764 8024 2994 749 816 1912 6132 8024 1372 3300 7490 3766 2994 1728 4158 3646 2530 6206 7521 991 1394 6900 4638 7490 699 679 2159 3211 3631 6816 6185 6182 6528 677 1146 775 102 0 0 0 0 0 0 0 0 0 0 0 0 0 0 0 0 0 0 0 0 0 0 0 0\n",
      "INFO:tensorflow:input_mask: 1 1 1 1 1 1 1 1 1 1 1 1 1 1 1 1 1 1 1 1 1 1 1 1 1 1 1 1 1 1 1 1 1 1 1 1 1 1 1 1 1 1 1 1 1 1 1 1 1 1 1 1 1 1 1 1 1 1 1 1 1 1 1 1 1 1 1 1 1 1 1 1 1 1 1 1 0 0 0 0 0 0 0 0 0 0 0 0 0 0 0 0 0 0 0 0 0 0 0 0\n",
      "INFO:tensorflow:input_type_ids: 0 0 0 0 0 0 0 0 0 0 0 0 0 0 0 0 0 0 0 0 0 0 0 0 0 0 0 0 0 0 0 0 0 0 0 0 0 0 0 0 0 0 0 0 0 0 0 0 0 0 0 0 0 0 0 0 0 0 0 0 0 0 0 0 0 0 0 0 0 0 0 0 0 0 0 0 0 0 0 0 0 0 0 0 0 0 0 0 0 0 0 0 0 0 0 0 0 0 0 0\n"
     ]
    }
   ],
   "source": [
    "import sys\n",
    "\n",
    "for idx in range(0, data_set_filtered.shape[0]):\n",
    "    sys.stdout.write('\\r'+ \"Implementing BERT vectoring {}% \\n\".format(round(100 * idx/data_set_filtered.shape[0], 2)))\n",
    "    data_set_filtered[target_feature + \"_vector\"].iloc[idx] = bv.encode([data_set_filtered[target_feature].iloc[idx]])"
   ]
  },
  {
   "cell_type": "code",
   "execution_count": 10,
   "metadata": {},
   "outputs": [
    {
     "output_type": "stream",
     "name": "stdout",
     "text": [
      "(4322, 3)\n"
     ]
    }
   ],
   "source": [
    "print(data_set_filtered.shape)"
   ]
  },
  {
   "cell_type": "code",
   "execution_count": 11,
   "metadata": {},
   "outputs": [],
   "source": [
    "data_set_filtered.to_pickle('data.pkl')"
   ]
  },
  {
   "cell_type": "code",
   "execution_count": 12,
   "metadata": {},
   "outputs": [],
   "source": [
    "del data_set_filtered"
   ]
  }
 ],
 "metadata": {
  "kernelspec": {
   "name": "python3",
   "display_name": "Python 3.8.6 64-bit",
   "metadata": {
    "interpreter": {
     "hash": "7e85ec9bf098c5427e45e2f632dcd4eeff803b007e1abd287d600879388709c1"
    }
   }
  },
  "language_info": {
   "codemirror_mode": {
    "name": "ipython",
    "version": 3
   },
   "file_extension": ".py",
   "mimetype": "text/x-python",
   "name": "python",
   "nbconvert_exporter": "python",
   "pygments_lexer": "ipython3",
   "version": "3.8.6-final"
  }
 },
 "nbformat": 4,
 "nbformat_minor": 2
}