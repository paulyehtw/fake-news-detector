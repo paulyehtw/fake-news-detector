{
 "cells": [
  {
   "cell_type": "code",
   "execution_count": 1,
   "metadata": {},
   "outputs": [
    {
     "output_type": "stream",
     "name": "stdout",
     "text": [
      "INFO:tensorflow:Using config: {'_model_dir': '../tmp', '_tf_random_seed': None, '_save_summary_steps': 100, '_save_checkpoints_steps': None, '_save_checkpoints_secs': 600, '_session_config': gpu_options {\n",
      "  per_process_gpu_memory_fraction: 1.0\n",
      "  allow_growth: true\n",
      "}\n",
      "graph_options {\n",
      "  optimizer_options {\n",
      "    global_jit_level: ON_1\n",
      "  }\n",
      "}\n",
      ", '_keep_checkpoint_max': 5, '_keep_checkpoint_every_n_hours': 10000, '_log_step_count_steps': 100, '_train_distribute': None, '_device_fn': None, '_protocol': None, '_eval_distribute': None, '_experimental_distribute': None, '_service': None, '_cluster_spec': <tensorflow.python.training.server_lib.ClusterSpec object at 0x12fa91c40>, '_task_type': 'worker', '_task_id': 0, '_global_id_in_cluster': 0, '_master': '', '_evaluation_master': '', '_is_chief': True, '_num_ps_replicas': 0, '_num_worker_replicas': 1}\n",
      "INFO:tensorflow:Could not find trained model in model_dir: ../tmp, running initialization to predict.\n"
     ]
    }
   ],
   "source": [
    "from bert.extract_feature import BertVector\n",
    "bv = BertVector()"
   ]
  },
  {
   "cell_type": "code",
   "execution_count": 2,
   "metadata": {},
   "outputs": [
    {
     "output_type": "stream",
     "name": "stdout",
     "text": [
      "Shape of data (99, 7)\nNumber of rows :  99\nNumber of columns :  7\n"
     ]
    }
   ],
   "source": [
    "import pickle\n",
    "import pandas as pd\n",
    "\n",
    "data = pd.read_pickle(\"./data0224.pkl\")\n",
    "print(\"Shape of data\", data.shape) \n",
    "print(\"Number of rows : \", data.shape[0]) \n",
    "print(\"Number of columns : \", data.shape[1]) "
   ]
  },
  {
   "cell_type": "code",
   "execution_count": 3,
   "metadata": {},
   "outputs": [
    {
     "output_type": "execute_result",
     "data": {
      "text/plain": [
       "                                               claim   source category  \\\n",
       "0  教你如何用肉眼就能看出這隻猪有没有餵瘦肉精！帮你到市場買猪肉時，你先看他的猪皮與肉中間這一塊...  cofacts       生活   \n",
       "1                                 指揮中心提醒，民眾出入醫院請佩戴口罩    中央衛生署       生活   \n",
       "2                                     戒菸益健康、助防疫、愛地球！    中央衛生署       生活   \n",
       "3                               國民健康署有設置青少年網站性福ｅ學園網站    中央衛生署       生活   \n",
       "4                     健保卡科技防疫再進化，實名制口罩自動販賣系統在台北市試辦上線    中央衛生署       生活   \n",
       "\n",
       "       times                                               text  label  \\\n",
       "0        NaN  教你如何用肉眼就能看出這隻猪有没有餵瘦肉精！\\n帮你到市場買猪肉時，你先看他的猪皮與肉中間這...      1   \n",
       "1  1090127.0        中央流行疫情指揮中心表示，為防範中國大陸新型冠狀病毒肺炎疫情，提醒民眾及陪病家屬...      0   \n",
       "2  1090421.0  4月22日是世界地球日50周年，今年可以思考用另一種方式愛護地球－戒菸！眾所皆知，戒菸有益健...      0   \n",
       "3  1090824.0  七夕佳節即將來臨，青少年相約出遊若缺少自我保護概念，可能陷於危險之中而不自知國民健康署提醒青...      0   \n",
       "4  1090411.0  口罩實名制販售通路再進化！衛生福利部、中央健保署與台北市政府攜手合作防疫，自4月12日起於台...      0   \n",
       "\n",
       "   Unnamed: 6  \n",
       "0         NaN  \n",
       "1         NaN  \n",
       "2         NaN  \n",
       "3         NaN  \n",
       "4         NaN  "
      ],
      "text/html": "<div>\n<style scoped>\n    .dataframe tbody tr th:only-of-type {\n        vertical-align: middle;\n    }\n\n    .dataframe tbody tr th {\n        vertical-align: top;\n    }\n\n    .dataframe thead th {\n        text-align: right;\n    }\n</style>\n<table border=\"1\" class=\"dataframe\">\n  <thead>\n    <tr style=\"text-align: right;\">\n      <th></th>\n      <th>claim</th>\n      <th>source</th>\n      <th>category</th>\n      <th>times</th>\n      <th>text</th>\n      <th>label</th>\n      <th>Unnamed: 6</th>\n    </tr>\n  </thead>\n  <tbody>\n    <tr>\n      <th>0</th>\n      <td>教你如何用肉眼就能看出這隻猪有没有餵瘦肉精！帮你到市場買猪肉時，你先看他的猪皮與肉中間這一塊...</td>\n      <td>cofacts</td>\n      <td>生活</td>\n      <td>NaN</td>\n      <td>教你如何用肉眼就能看出這隻猪有没有餵瘦肉精！\\n帮你到市場買猪肉時，你先看他的猪皮與肉中間這...</td>\n      <td>1</td>\n      <td>NaN</td>\n    </tr>\n    <tr>\n      <th>1</th>\n      <td>指揮中心提醒，民眾出入醫院請佩戴口罩</td>\n      <td>中央衛生署</td>\n      <td>生活</td>\n      <td>1090127.0</td>\n      <td>中央流行疫情指揮中心表示，為防範中國大陸新型冠狀病毒肺炎疫情，提醒民眾及陪病家屬...</td>\n      <td>0</td>\n      <td>NaN</td>\n    </tr>\n    <tr>\n      <th>2</th>\n      <td>戒菸益健康、助防疫、愛地球！</td>\n      <td>中央衛生署</td>\n      <td>生活</td>\n      <td>1090421.0</td>\n      <td>4月22日是世界地球日50周年，今年可以思考用另一種方式愛護地球－戒菸！眾所皆知，戒菸有益健...</td>\n      <td>0</td>\n      <td>NaN</td>\n    </tr>\n    <tr>\n      <th>3</th>\n      <td>國民健康署有設置青少年網站性福ｅ學園網站</td>\n      <td>中央衛生署</td>\n      <td>生活</td>\n      <td>1090824.0</td>\n      <td>七夕佳節即將來臨，青少年相約出遊若缺少自我保護概念，可能陷於危險之中而不自知國民健康署提醒青...</td>\n      <td>0</td>\n      <td>NaN</td>\n    </tr>\n    <tr>\n      <th>4</th>\n      <td>健保卡科技防疫再進化，實名制口罩自動販賣系統在台北市試辦上線</td>\n      <td>中央衛生署</td>\n      <td>生活</td>\n      <td>1090411.0</td>\n      <td>口罩實名制販售通路再進化！衛生福利部、中央健保署與台北市政府攜手合作防疫，自4月12日起於台...</td>\n      <td>0</td>\n      <td>NaN</td>\n    </tr>\n  </tbody>\n</table>\n</div>"
     },
     "metadata": {},
     "execution_count": 3
    }
   ],
   "source": [
    "data.head()"
   ]
  },
  {
   "source": [
    "target_feature = 'claim'\n",
    "data_set = data.filter([target_feature, 'label'])"
   ],
   "cell_type": "code",
   "metadata": {},
   "execution_count": 4,
   "outputs": []
  },
  {
   "cell_type": "code",
   "execution_count": 5,
   "metadata": {},
   "outputs": [
    {
     "output_type": "stream",
     "name": "stdout",
     "text": [
      "INFO:tensorflow:Done calling model_fn.\n",
      "                                               claim  label\n",
      "0  教你如何用肉眼就能看出這隻猪有没有餵瘦肉精！帮你到市場買猪肉時，你先看他的猪皮與肉中間這一塊...      1\n",
      "1                                 指揮中心提醒，民眾出入醫院請佩戴口罩      0\n",
      "2                                     戒菸益健康、助防疫、愛地球！      0\n",
      "3                               國民健康署有設置青少年網站性福ｅ學園網站      0\n",
      "4                     健保卡科技防疫再進化，實名制口罩自動販賣系統在台北市試辦上線      0\n",
      "5                                降低風險！指揮中心公布社交距離注意事項      0\n",
      "6                               防疫補償金可在2年內申請可多利用網路申辦      0\n",
      "7                          防詐騙！指揮中心從未發最終通知，接獲不明郵件勿開啟      0\n",
      "8                             科技防疫，再推疫止神通、雙向簡訊追蹤隔離檢疫      0\n",
      "9                           享受生活促進經濟，業者、民眾齊響應防疫新生活運動      0\n",
      "INFO:tensorflow:Graph was finalized.\n",
      "INFO:tensorflow:Running local_init_op.\n",
      "INFO:tensorflow:Done running local_init_op.\n"
     ]
    }
   ],
   "source": [
    "print(data_set.head(10))"
   ]
  },
  {
   "cell_type": "code",
   "execution_count": 6,
   "metadata": {},
   "outputs": [],
   "source": [
    "data_set_filtered = data_set[data_set[target_feature].notnull()]"
   ]
  },
  {
   "cell_type": "code",
   "execution_count": 7,
   "metadata": {
    "tags": []
   },
   "outputs": [
    {
     "output_type": "stream",
     "name": "stdout",
     "text": [
      "Downloading emoji data ...\n",
      "... OK (Got response in 0.75 seconds)\n",
      "Writing emoji data to /Users/Paul/.demoji/codes.json ...\n",
      "... OK\n"
     ]
    }
   ],
   "source": [
    "import re\n",
    "import demoji\n",
    "demoji.download_codes()\n",
    "for idx in range(0, data_set_filtered.shape[0]):\n",
    "    data_set_filtered[target_feature].iloc[idx] = demoji.replace(data_set_filtered[target_feature].iloc[idx],\"\") # remove emojis\n",
    "    data_set_filtered[target_feature].iloc[idx] = re.sub(r'http\\S+', 'd', data_set_filtered[target_feature].iloc[idx]) # remove https link\n",
    "    data_set_filtered[target_feature].iloc[idx] = re.sub(r'line:\\S+', '', data_set_filtered[target_feature].iloc[idx]) # remove line link\n",
    "    data_set_filtered[target_feature].iloc[idx] = re.sub(r\"[\\n\\t\\s]*\", \"\", data_set_filtered[target_feature].iloc[idx]) # remove redundent space"
   ]
  },
  {
   "cell_type": "code",
   "execution_count": 8,
   "metadata": {},
   "outputs": [
    {
     "output_type": "stream",
     "name": "stdout",
     "text": [
      "claim           False\n",
      "claim_vector    False\n",
      "label           False\n",
      "dtype: bool\n",
      "(99, 3)\n"
     ]
    }
   ],
   "source": [
    "data_set_filtered.insert(1, target_feature + \"_vector\", 0) \n",
    "data_set_filtered[target_feature + \"_vector\"] = data_set_filtered[target_feature + \"_vector\"].astype(object)\n",
    "print(data_set_filtered.isnull().any())\n",
    "print(data_set_filtered.shape)"
   ]
  },
  {
   "cell_type": "code",
   "execution_count": 9,
   "metadata": {},
   "outputs": [],
   "source": [
    "data_set_filtered_ws = data_set_filtered.copy()"
   ]
  },
  {
   "cell_type": "code",
   "execution_count": 10,
   "metadata": {},
   "outputs": [],
   "source": [
    "from ckiptagger import data_utils, construct_dictionary, WS, POS, NER\n",
    "ws = WS(\"./tagger_data\")\n",
    "pos = POS(\"./tagger_data\")\n",
    "ner = NER(\"./tagger_data\")"
   ]
  },
  {
   "cell_type": "code",
   "execution_count": 11,
   "metadata": {},
   "outputs": [],
   "source": [
    "stop_words = open('./stop_words.txt', 'r')\n",
    "lines = stop_words.readlines()\n",
    "stop_words_dict = {}\n",
    "for line in lines:\n",
    "    line = line.replace('\\n','')\n",
    "    stop_words_dict[line] = 1\n",
    "dictionary = construct_dictionary(stop_words_dict)"
   ]
  },
  {
   "cell_type": "code",
   "execution_count": 12,
   "metadata": {
    "tags": []
   },
   "outputs": [
    {
     "output_type": "stream",
     "name": "stdout",
     "text": [
      "['教', '你', '如何', '用', '肉眼', '就', '能', '看出', '這', '隻', '猪', '有', '没', '有', '餵', '瘦肉精', '！', '帮', '你', '到', '市場', '買', '猪肉', '時', '，', '你', '先', '看', '他', '的', '猪皮', '與', '肉', '中間', '這', '一', '塊', '肥肉', '有', '幾', '公分', '！', '如果', '说', '中間', '這', '塊', '肥肉', '越', '少', '越', '薄', '，', '那', '就', '表示', '這', '隻', '豬', '有', '餵', '過', '瘦肉精', '正常', '的話', '猪皮', '跟', '瘦肉', '之間', '隔着', '這', '層', '肥肉', '的', '距離', '，', '約', '超過', '1', '公分', '之', '1', '公分', '半', '，', '有的', '甚至', '约两', '公分', '所謂', '瘦肉精', '就是', '要', '讓', '猪隻减', '少體内', '的', '肥肉', '，', '當', '猪', '的', '肥肉', '最', '明顯', '的', '就', '顯示', '在', '猪皮', '與', '身体', '瘦肉', '的', '中間', '這', '一', '層', '，', '這', '種', '判断', '準確率', '可', '達到', '90%', '!']\n",
      "['指揮中心', '提醒', '，', '民眾', '出入', '醫院', '請', '佩戴', '口罩']\n",
      "['戒菸', '益', '健康', '、', '助', '防疫', '、', '愛', '地球', '！']\n",
      "['國民', '健康署', '有', '設置', '青少年', '網站性', '福', 'ｅ', '學園', '網站']\n",
      "['健保卡', '科技', '防疫', '再', '進化', '，', '實名制', '口罩', '自動', '販賣', '系統', '在', '台北市', '試辦', '上線']\n",
      "['降低', '風險', '！', '指揮中心', '公布', '社交距離', '注意', '事項']\n",
      "['防疫', '補償金', '可', '在', '2', '年', '內', '申請', '可', '多', '利用', '網路', '申辦']\n",
      "['防', '詐騙', '！', '指揮中心', '從未', '發', '最終', '通知', '，', '接獲', '不明', '郵件', '勿', '開啟']\n",
      "['科技', '防疫', '，', '再', '推', '疫止', '神通', '、', '雙向', '簡訊', '追蹤', '隔離', '檢疫']\n",
      "['享受', '生活', '促進', '經濟', '，', '業者', '、', '民眾', '齊響', '應', '防疫', '新', '生活', '運動']\n",
      "['健保', '新增', '胃癌', '、', '乳癌', '及', '兒童', '白血病', '之', '藥品', '給付']\n",
      "['健保費', '繳費', '證明', '申請', '方式', '多元', '，', '完成', '註冊', '的', '健保卡', '或', '自然人', '憑證', '，', '進入', '健保署', '全球', '資訊網', '即可', '繳費']\n",
      "['即日', '起', '愛滋', '篩檢', '試劑', '開放', '網路', '訂購', '，', '超商', '取', '貨', '好', '便利']\n",
      "['健保', '諮詢', '專線', '春節', '服務', '不', '打烊', '，', '避免', '詐騙', '好', '安心']\n",
      "['受', '疫情', '影響', '致', '生活', '陷困', '民眾', '可', '向', '公所', '申辦', '急難', '紓困']\n",
      "['健保', '愛公', '彩情', '—', '弱勢', '關懷', '擁抱', '愛']\n",
      "['防疫', '優先', '護理', '安心', '執業', '執照', '更新', '免', '申請', '直接', '展延', '6', '個', '月']\n",
      "['2月', '10日', '起', '經', '中港澳', '轉機', '得', '入境', '者', '，', '需', '居家', '檢疫', '14', '天', '，', '並', '限縮', '臺灣', '直航', '中', '港澳', '航線', '，', '部分', '機場', '暫停', '航班']\n",
      "['國民', '健康署', '青少年', '網站性', '福', 'e', '學園', '之', '諮詢', '特派員', '免費', '線上', '諮詢', '服務', '，', '也', '收到', '數', '則', '青年', '朋友', '關於', '網路', '交友', '的', '求助', '留言', '我', '高中', '時', '在', '交友', '軟體', '上', '和', '網友', '互傳', '了', '私密照', '，', '現在', '好', '擔心', '照片', '外流']\n",
      "['健保', '通過', '泰格莎', '(', 'Tagrisso', ')', '納入', '給付', '，', '及', '調整', '癌症', '免疫', '新', '藥', '給付', '範圍']\n",
      "['春節', '團圓', '優質', '話題', '首選', 'TFDALINE@', '食', '藥', '闢謠', '機器人']\n",
      "['春季', '氣溫', '多', '變化', '，', '高風險', '族群', '與', '長者', '防護', '措施', '要', '做好', '！']\n",
      "['設置', '精神', '醫療', '緊急', '處置', '線上', '諮詢', '24', '小時', '服務', '專線', '，', '強化', '社區', '精神', '病人', '護送', '就醫', '機制', '！']\n",
      "['指揮中心', '強調', '，', '網路', '社群', '間', '流傳', '之', '武漢', '肺炎', '相關', '言論', '多', '無', '根據', '且', '無益於', '防疫', '，', '請', '民眾', '勿', '輕信', '或', '轉發']\n",
      "['113', '保護', '專線', '8月', '10日', '起', '提供', '日語', '通譯', '服務']\n",
      "['兒童', '健檢', '超給力', '爸爸', '媽媽', '好', '安心', '，', '國民健康署', '依', '兒童', '發展', '時程', '提供', '7', '歲', '以下', '7', '次', '兒童', '健康', '檢查']\n",
      "['6', '不', '，', '不', '生食', '禽鳥', '蛋類', '或', '製品', '、', '不', '走私', '及', '購買', '來路不明', '禽鳥', '肉品', '、', '不', '接觸', '或', '餵食', '候鳥', '及', '禽鳥', '、', '不', '野放', '及', '隨意', '丟棄', '禽鳥', '、', '不', '將', '飼養', '禽鳥', '與', '其他', '禽畜', '混居', '、', '不', '去', '空氣', '不', '流通', '或', '人潮', '擁擠', '的', '場所']\n",
      "['陪伴', '您', '安心', '過年', '1957', '福利', '諮詢', '專線', '春節', '不', '打烊']\n",
      "['113', '保護', '專線', '是', '全', '年', '無休', '、', '24', '小時', '不', '打烊', '的', '免', '付費', '專線']\n",
      "['迎接', '重陽', '，', '我', '的', '七老八十', '活動', '以', '翻轉', '老化', '為', '主題', '，', '翻轉', '一般', '社會', '大眾', '對於', '老年', '的', '刻板', '印象']\n",
      "['防疫', '全方位', '，', '推出', '各', '語言版', '手冊', '保障', '外籍', '人士', '健保', '權益']\n",
      "['健保', '有', '愛', '擁抱', '偏鄉', '國際', '扶輪', '行善', '天下', '－', '守護', '左鎮', '巡迴', '醫療', '整合', '暨', '贈', '車', '儀式']\n",
      "['今年', '5月', '新', '租稅', '優惠', '上路', '，', '申報', '綜合', '所得稅', '時', '可以', '申報', '長期', '照顧', '特別', '扣除額', '!']\n",
      "['健保署', '李伯璋', '署長', '蒞臨', '馬祖', '關心', '在', '地', '健保', '醫療', '服務']\n",
      "['自', '9月', '17日', '起', '臺灣', '製造', '之', '平面式', '醫用', '口罩', '應', '逐片', '標示', 'MD', '及', 'Made', 'InTaiwan']\n",
      "['健保', '欠費', '免', '煩惱', '分期', '紓困', '協助', '您']\n",
      "['夏日', '炎炎', '提高', '警覺', '切勿', '把', '孩子', '獨留', '車', '內', '！']\n",
      "['暑假', '出遊', '戶外', '活動', '防熱', '傷害', '3', '要', '訣', '多', '喝', '白開水', '、', '選擇', '適當', '時間', '與', '場所', '、', '做好', '個人', '防曬', '措施', '！']\n",
      "['健保署', '所', '提', '經導管', '置換', '瓣膜', '套組', '(', 'TAVI', ')', '納入', '自付', '差額', '特材案', '，', '經', '健保會', '委員', '充分', '討論', '，', '決議', '請', '健保署', '再', '提供', '更', '詳細', '規劃', '內容', '及', '配套', '措施', '後', '再', '議']\n",
      "['春節', '連假', '便利商店', '、', '網路', '、', '行動', '支付', '繳納', '健保費', '不', '打烊', '！']\n",
      "['兒童', '安全', '座椅', '！', '減少', '7成', '死亡率']\n",
      "['健保署', '與', '林口', '長庚', '攜手', '發展', '5G', '遠距', '眼科', '巡迴', '等', '服務', '守護', '復興區', '偏鄉', '住民']\n",
      "['防疫', '國家隊', '化身', '科普', '樂園', '國衛院', '年度', '科普', '系列', '活動', '正式', '起跑', '囉', '！']\n",
      "['別', '再', '燒', '金紙', '了', '！', '祭祖心', '誠', '則', '靈少', '空污', '多', '健康']\n",
      "['想要', '戒菸', '，', '您', '可以', '撥打', '免費', '戒菸', '服務', '專線', '0800636363']\n",
      "['防疫', '免', '出門', '在', '家', '卡', '好', '!']\n",
      "['近', '4成', '民眾', '春節', '後', '體重', '上升', '!']\n",
      "['事', '前', '預約', '春節', '長照', '服務', '1966', '長', '照', '服務', '專線', '幫', '您', '一起', '照顧', '失能', '長輩']\n",
      "['孩子', '哭鬧', '有', '原因', '，', '一般而言', '，', '應', '先', '檢視', '是否', '為', '生病', '所', '致', '(', '感冒', '、', '發燒', '等', ')', '，', '排除', '疾病', '因素', '後', '，', '可能', '是', '肚子', '餓', '、', '尿布', '濕', '、', '喝', '奶', '沒', '拍嗝', '等', '生理', '需求', '未', '被', '滿足']\n",
      "['健保署', '李伯璋', '署長', '深入', '阿里山', '及', '大埔', '巡迴', '醫療站', '，', '關懷', '偏鄉', '醫療', '服務']\n",
      "['振興', '健康', '40', '歲', '有份', '把握', '免費', '健檢', '服務']\n",
      "['做', '環保', '也', '可', '防失', '能', '失智', '！']\n",
      "['健保署', '榮獲', '2020', '數位', '轉型', '大獎', '(', 'IDCDX', 'Awards', ')', '之', '臺灣', '及', '亞太區', '最佳', '韌性', '組織', '獎', '(', 'Special', 'Award', 'For', 'Resiliency', ')', '雙料', '大獎']\n",
      "['健保署', '榮獲', '109年度', '政府', '資料', '開放', '應用獎', '之', '生活', '企業', '應用組', '第一', '名']\n",
      "['健保署', '榮獲', '109年度', '政府', '機關', '國家', '永續', '發展', '獎']\n",
      "['健保', '智能', '客服', '(', '文字', '機器人', '阿Ken', ')', '4月', '16日', '正式', '上線', '囉', '!']\n",
      "['蘇麗瓊', '次長', '春節', '前夕', '慰勞', '全', '年', '無休', '1957', '福利', '諮詢', '專線', '、', '113', '保護', '專線', '、', '1925', '安心', '專線']\n",
      "['中秋', '購好', '禮', '一', '指', '做', '公益', '！', '鋼鐵部長', '、', '叫賣', '哥', '攜手', '推薦', '身心', '障礙', '福利', '機構', '及', '團體', '秋節', '產品', '熱賣', '中']\n",
      "['衛福部', '特別', '呼籲', '民眾', '於', '春節', '期間', '若', '有', '情緒', '困擾', '、', '憂鬱', '、', '覺得', '壓力', '過', '大', '或', '甚至', '有', '尋短', '的', '意念', '，', '可', '撥打', '本部', '24', '小時', '服務', '不', '打烊', '，', '且', '免', '付費', '之', '安心', '專線', '1925', '依舊', '愛', '我']\n",
      "['兒童', '之', '家', '廉政誠', '長營', '起手式', '，', '阿中部長', '為', '家童', '職場', '生涯', '充滿', '電', '!']\n",
      "['兒少', '表意', '向', '前', '邁進', '中央', '培力', '成果', '豐盈']\n",
      "['快', '！', '符合', '108年', '住宿式', '服務', '機構', '使用', '者', '補助', '方案', '者', '2月', '15日', '截止', '受理', '請', '把握', '機會', '提出', '申請']\n",
      "['健保署', '與', '廣達', '電腦', '簽署', 'MOU', '合作', '發展', 'AI', '智慧', '健保']\n",
      "['今年', '天氣', '怎麼', '那麼', '熱', '藥', '放', '冰箱', '非', '萬能', '保存', '有', '三', '不', '，', '不要', '存放', '冰箱', '，', '不要', '放', '在', '濕熱', '廚房', '或', '窗', '邊', '，', '不要', '把', '藥品', '重新', '再', '分裝', '至', '別的', '容器', '中']\n",
      "['不會', '有', '連結', '!', '口罩', '進化', '，', '小心', '詐騙', '也', '進化']\n",
      "['搶攻', '三', '倍', '券', '商機', '寧夏', '夜市', '加碼', '推', '優惠']\n",
      "['三倍券', '上路', '賴清德', '拋磚引玉', '捐', '公益', '團體']\n",
      "['境', '外', '移入', '和', '1', '指揮中心', '週三', '公告', '秋冬', '防疫', '專案']\n",
      "['新增', '6', '例', '境外', '移入', '新冠', '疫苗', '首', '波', '接種', '不', '列入', '兒童']\n",
      "['秋冬', '防疫', '專案', '12/1', '正式', '啟動']\n",
      "['9/1', '起', '機場', '改', '深', '喉唾液', '篩檢', '免', '受', '插喉', '痛苦']\n",
      "['新冠', '疫苗', '誰', '優先', '施打', '黃立民', '應', '會', '以', '成人', '、', '老人', '為主']\n",
      "['振興券', '7月', '才', '上路', '地方', '紛紛', '加碼', '刺激', '消費']\n",
      "['客庄券', '登記', '狂', '當機', '客委會', '截止日', '延後', '2', '天']\n",
      "['紙本藝', 'FUN券', '今', '上午', '9點', '起', '開放', '登記']\n",
      "['單', '週', '確診', '15', '例', '，', '北市', '停辦', '2021', '跨年', '晚會']\n",
      "['台北市', '千', '人', '防疫', '就業', '方案', '釋出', '上千', '職缺']\n",
      "['南市', '加碼', '推', '優惠', '使用', '三', '倍', '券', '可', '抽', '房屋']\n",
      "['第二', '波', '觀光', '紓困', '交通部', '補助', '薪資', '、', '營運']\n",
      "['役男', '家人', '檢疫', '未', '告知', '同', '車', '28', '人', '須', '隔離', '操練']\n",
      "['安心', '旅遊', '7/1', '上路', '交長', '談', '因應', '國旅', '再', '爆發']\n",
      "['安心', '旅遊', '明天', '上路', '哄抬', '房價', '將', '取消', '補助']\n",
      "['7/23', '起', '店家', '可', '持', '三', '倍券', '至', '金融', '機構', '兌現']\n",
      "['振興券', '正夯', '桃園', '市府', '加碼', '補助', '校', '外', '教學']\n",
      "['3', '偏鄉', '無', '郵局', '超商', '由', '7', '派出所', '發放', '三', '倍', '券']\n",
      "['明公布振興券', '實施', '內容', '傳納', '外配', '與', '中配']\n",
      "['活絡', '消費', '蘇貞昌', '今', '說明', '振興券', '使用', '方式']\n",
      "['配合', '政府', '振興', '3', '倍', '券', '業者', '加碼', '3千', '享', '6', '倍', '券']\n",
      "['檳榔攤', '收', '三', '倍', '券', '竟', '已', '蓋過', '銀行', '收付', '章']\n",
      "['台北', '就業', '服務', '站', '湧', '人潮', '申請', '千', '人', '防疫', '就業', '方案']\n",
      "['類', '出國', '20', '版', '桃機', '起飛', '可', '在', '臺灣', '任', '1', '機場', '降落']\n",
      "['交部', '推', '防疫', '旅遊', '踩線團', '旅遊', '從業員', '會師']\n",
      "['實體', '三', '倍', '券明', '領取', '郵局', '超商', '齊備', '戰']\n",
      "['交通部', '投入', '8億', '助', '人才', '培訓', '旅行業', '吃', '不', '到']\n",
      "['外界', '質疑', '酷', '碰券', '不', '好用', '籲發', '現金', '或', '消費券']\n",
      "['政院', '公布', '振興券', '方案', '定名', '三倍券', '、', '1千', '換', '3千']\n",
      "['民眾', '多', '赴', '農會', '消費', '小', '農難', '收到', '農遊券']\n",
      "['振興', '抵用券', '電子', '、', '紙本', '並行', '每', '人', '600800', '元']\n",
      "['消費', '1千', '元', '可', '得', '3千', '元', '振興券']\n"
     ]
    }
   ],
   "source": [
    "claim_ws = []\n",
    "for claim in data_set_filtered_ws[target_feature]:\n",
    "    sentence_list = [claim]\n",
    "    word_sentence_list = ws(\n",
    "        sentence_list,\n",
    "        # sentence_segmentation = True, # To consider delimiters\n",
    "        # segment_delimiter_set = {\",\", \"。\", \":\", \"?\", \"!\", \";\", \"，\"}, # This is the defualt set of delimiters\n",
    "        recommend_dictionary = dictionary, # words in this dictionary are encouraged\n",
    "        # coerce_dictionary = dictionary2, # words in this dictionary are forced\n",
    "    )\n",
    "    claim_ws.append(word_sentence_list[0])\n",
    "    print(word_sentence_list[0])\n",
    "data_set_filtered_ws[target_feature] = claim_ws"
   ]
  },
  {
   "cell_type": "code",
   "execution_count": 13,
   "metadata": {},
   "outputs": [
    {
     "output_type": "stream",
     "name": "stdout",
     "text": [
      "0\n"
     ]
    }
   ],
   "source": [
    "max_len = 100\n",
    "row_to_drop = []\n",
    "for idx in range(0, data_set_filtered_ws.shape[0]):\n",
    "    if(len(data_set_filtered_ws[target_feature].iloc[idx]) > max_len):\n",
    "        row_to_drop.append(idx)\n",
    "        print(idx)\n",
    "data_set_filtered_ws = data_set_filtered_ws.drop(row_to_drop)\n",
    "data_set_filtered = data_set_filtered.drop(row_to_drop)"
   ]
  },
  {
   "cell_type": "code",
   "execution_count": 14,
   "metadata": {},
   "outputs": [
    {
     "output_type": "stream",
     "name": "stdout",
     "text": [
      "Implementing BERT vectoring 0.0% \n",
      "Implementing BERT vectoring 1.02% \n",
      "Implementing BERT vectoring 2.04% \n",
      "Implementing BERT vectoring 3.06% \n",
      "Implementing BERT vectoring 4.08% \n",
      "Implementing BERT vectoring 5.1% \n",
      "Implementing BERT vectoring 6.12% \n",
      "Implementing BERT vectoring 7.14% \n",
      "Implementing BERT vectoring 8.16% \n",
      "Implementing BERT vectoring 9.18% \n",
      "Implementing BERT vectoring 10.2% \n",
      "Implementing BERT vectoring 11.22% \n",
      "Implementing BERT vectoring 12.24% \n",
      "Implementing BERT vectoring 13.27% \n",
      "Implementing BERT vectoring 14.29% \n",
      "Implementing BERT vectoring 15.31% \n",
      "Implementing BERT vectoring 16.33% \n",
      "Implementing BERT vectoring 17.35% \n",
      "Implementing BERT vectoring 18.37% \n",
      "Implementing BERT vectoring 19.39% \n",
      "Implementing BERT vectoring 20.41% \n",
      "Implementing BERT vectoring 21.43% \n",
      "Implementing BERT vectoring 22.45% \n",
      "Implementing BERT vectoring 23.47% \n",
      "Implementing BERT vectoring 24.49% \n",
      "Implementing BERT vectoring 25.51% \n",
      "Implementing BERT vectoring 26.53% \n",
      "Implementing BERT vectoring 27.55% \n",
      "Implementing BERT vectoring 28.57% \n",
      "Implementing BERT vectoring 29.59% \n",
      "Implementing BERT vectoring 30.61% \n",
      "Implementing BERT vectoring 31.63% \n",
      "Implementing BERT vectoring 32.65% \n",
      "Implementing BERT vectoring 33.67% \n",
      "Implementing BERT vectoring 34.69% \n",
      "Implementing BERT vectoring 35.71% \n",
      "Implementing BERT vectoring 36.73% \n",
      "Implementing BERT vectoring 37.76% \n",
      "Implementing BERT vectoring 38.78% \n",
      "Implementing BERT vectoring 39.8% \n",
      "Implementing BERT vectoring 40.82% \n",
      "Implementing BERT vectoring 41.84% \n",
      "Implementing BERT vectoring 42.86% \n",
      "Implementing BERT vectoring 43.88% \n",
      "Implementing BERT vectoring 44.9% \n",
      "Implementing BERT vectoring 45.92% \n",
      "Implementing BERT vectoring 46.94% \n",
      "Implementing BERT vectoring 47.96% \n",
      "Implementing BERT vectoring 48.98% \n",
      "Implementing BERT vectoring 50.0% \n",
      "Implementing BERT vectoring 51.02% \n",
      "Implementing BERT vectoring 52.04% \n",
      "Implementing BERT vectoring 53.06% \n",
      "Implementing BERT vectoring 54.08% \n",
      "Implementing BERT vectoring 55.1% \n",
      "Implementing BERT vectoring 56.12% \n",
      "Implementing BERT vectoring 57.14% \n",
      "Implementing BERT vectoring 58.16% \n",
      "Implementing BERT vectoring 59.18% \n",
      "Implementing BERT vectoring 60.2% \n",
      "Implementing BERT vectoring 61.22% \n",
      "Implementing BERT vectoring 62.24% \n",
      "Implementing BERT vectoring 63.27% \n",
      "Implementing BERT vectoring 64.29% \n",
      "Implementing BERT vectoring 65.31% \n",
      "Implementing BERT vectoring 66.33% \n",
      "Implementing BERT vectoring 67.35% \n",
      "Implementing BERT vectoring 68.37% \n",
      "Implementing BERT vectoring 69.39% \n",
      "Implementing BERT vectoring 70.41% \n",
      "Implementing BERT vectoring 71.43% \n",
      "Implementing BERT vectoring 72.45% \n",
      "Implementing BERT vectoring 73.47% \n",
      "Implementing BERT vectoring 74.49% \n",
      "Implementing BERT vectoring 75.51% \n",
      "Implementing BERT vectoring 76.53% \n",
      "Implementing BERT vectoring 77.55% \n",
      "Implementing BERT vectoring 78.57% \n",
      "Implementing BERT vectoring 79.59% \n",
      "Implementing BERT vectoring 80.61% \n",
      "Implementing BERT vectoring 81.63% \n",
      "Implementing BERT vectoring 82.65% \n",
      "Implementing BERT vectoring 83.67% \n",
      "Implementing BERT vectoring 84.69% \n",
      "Implementing BERT vectoring 85.71% \n",
      "Implementing BERT vectoring 86.73% \n",
      "Implementing BERT vectoring 87.76% \n",
      "Implementing BERT vectoring 88.78% \n",
      "Implementing BERT vectoring 89.8% \n",
      "Implementing BERT vectoring 90.82% \n",
      "Implementing BERT vectoring 91.84% \n",
      "Implementing BERT vectoring 92.86% \n",
      "Implementing BERT vectoring 93.88% \n",
      "Implementing BERT vectoring 94.9% \n",
      "Implementing BERT vectoring 95.92% \n",
      "Implementing BERT vectoring 96.94% \n",
      "Implementing BERT vectoring 97.96% \n",
      "Implementing BERT vectoring 98.98% \n"
     ]
    }
   ],
   "source": [
    "# vectering sentence\n",
    "for idx in range(0, data_set_filtered.shape[0]):\n",
    "    sys.stdout.write('\\r'+ \"Implementing BERT vectoring {}% \\n\".format(round(100 * idx/data_set_filtered.shape[0], 2)))\n",
    "    vec = bv.encode([data_set_filtered[target_feature].iloc[idx]])\n",
    "    data_set_filtered[target_feature + \"_vector\"].iloc[idx] = vec"
   ]
  },
  {
   "cell_type": "code",
   "execution_count": 15,
   "metadata": {
    "tags": []
   },
   "outputs": [
    {
     "output_type": "stream",
     "name": "stdout",
     "text": [
      "Implementing BERT vectoring 0.0% \n",
      "Implementing BERT vectoring 1.02% \n",
      "Implementing BERT vectoring 2.04% \n",
      "Implementing BERT vectoring 3.06% \n",
      "Implementing BERT vectoring 4.08% \n",
      "Implementing BERT vectoring 5.1% \n",
      "Implementing BERT vectoring 6.12% \n",
      "Implementing BERT vectoring 7.14% \n",
      "Implementing BERT vectoring 8.16% \n",
      "Implementing BERT vectoring 9.18% \n",
      "Implementing BERT vectoring 10.2% \n",
      "Implementing BERT vectoring 11.22% \n",
      "Implementing BERT vectoring 12.24% \n",
      "Implementing BERT vectoring 13.27% \n",
      "Implementing BERT vectoring 14.29% \n",
      "Implementing BERT vectoring 15.31% \n",
      "Implementing BERT vectoring 16.33% \n",
      "Implementing BERT vectoring 17.35% \n",
      "Implementing BERT vectoring 18.37% \n",
      "Implementing BERT vectoring 19.39% \n",
      "Implementing BERT vectoring 20.41% \n",
      "Implementing BERT vectoring 21.43% \n",
      "Implementing BERT vectoring 22.45% \n",
      "Implementing BERT vectoring 23.47% \n",
      "Implementing BERT vectoring 24.49% \n",
      "Implementing BERT vectoring 25.51% \n",
      "Implementing BERT vectoring 26.53% \n",
      "Implementing BERT vectoring 27.55% \n",
      "Implementing BERT vectoring 28.57% \n",
      "Implementing BERT vectoring 29.59% \n",
      "Implementing BERT vectoring 30.61% \n",
      "Implementing BERT vectoring 31.63% \n",
      "Implementing BERT vectoring 32.65% \n",
      "Implementing BERT vectoring 33.67% \n",
      "Implementing BERT vectoring 34.69% \n",
      "Implementing BERT vectoring 35.71% \n",
      "Implementing BERT vectoring 36.73% \n",
      "Implementing BERT vectoring 37.76% \n",
      "Implementing BERT vectoring 38.78% \n",
      "Implementing BERT vectoring 39.8% \n",
      "Implementing BERT vectoring 40.82% \n",
      "Implementing BERT vectoring 41.84% \n",
      "Implementing BERT vectoring 42.86% \n",
      "Implementing BERT vectoring 43.88% \n",
      "Implementing BERT vectoring 44.9% \n",
      "Implementing BERT vectoring 45.92% \n",
      "Implementing BERT vectoring 46.94% \n",
      "Implementing BERT vectoring 47.96% \n",
      "Implementing BERT vectoring 48.98% \n",
      "Implementing BERT vectoring 50.0% \n",
      "Implementing BERT vectoring 51.02% \n",
      "Implementing BERT vectoring 52.04% \n",
      "Implementing BERT vectoring 53.06% \n",
      "Implementing BERT vectoring 54.08% \n",
      "Implementing BERT vectoring 55.1% \n",
      "Implementing BERT vectoring 56.12% \n",
      "Implementing BERT vectoring 57.14% \n",
      "Implementing BERT vectoring 58.16% \n",
      "Implementing BERT vectoring 59.18% \n",
      "Implementing BERT vectoring 60.2% \n",
      "Implementing BERT vectoring 61.22% \n",
      "Implementing BERT vectoring 62.24% \n",
      "Implementing BERT vectoring 63.27% \n",
      "Implementing BERT vectoring 64.29% \n",
      "Implementing BERT vectoring 65.31% \n",
      "Implementing BERT vectoring 66.33% \n",
      "Implementing BERT vectoring 67.35% \n",
      "Implementing BERT vectoring 68.37% \n",
      "Implementing BERT vectoring 69.39% \n",
      "Implementing BERT vectoring 70.41% \n",
      "Implementing BERT vectoring 71.43% \n",
      "Implementing BERT vectoring 72.45% \n",
      "Implementing BERT vectoring 73.47% \n",
      "Implementing BERT vectoring 74.49% \n",
      "Implementing BERT vectoring 75.51% \n",
      "Implementing BERT vectoring 76.53% \n",
      "Implementing BERT vectoring 77.55% \n",
      "Implementing BERT vectoring 78.57% \n",
      "Implementing BERT vectoring 79.59% \n",
      "Implementing BERT vectoring 80.61% \n",
      "Implementing BERT vectoring 81.63% \n",
      "Implementing BERT vectoring 82.65% \n",
      "Implementing BERT vectoring 83.67% \n",
      "Implementing BERT vectoring 84.69% \n",
      "Implementing BERT vectoring 85.71% \n",
      "Implementing BERT vectoring 86.73% \n",
      "Implementing BERT vectoring 87.76% \n",
      "Implementing BERT vectoring 88.78% \n",
      "Implementing BERT vectoring 89.8% \n",
      "Implementing BERT vectoring 90.82% \n",
      "Implementing BERT vectoring 91.84% \n",
      "Implementing BERT vectoring 92.86% \n",
      "Implementing BERT vectoring 93.88% \n",
      "Implementing BERT vectoring 94.9% \n",
      "Implementing BERT vectoring 95.92% \n",
      "Implementing BERT vectoring 96.94% \n",
      "Implementing BERT vectoring 97.96% \n",
      "Implementing BERT vectoring 98.98% \n"
     ]
    }
   ],
   "source": [
    "# vectering word by word\n",
    "import sys\n",
    "\n",
    "for idx in range(0, data_set_filtered_ws.shape[0]):\n",
    "    sys.stdout.write('\\r'+ \"Implementing BERT vectoring {}% \\n\".format(round(100 * idx/data_set_filtered_ws.shape[0], 2)))\n",
    "    title_list = []\n",
    "    for word in data_set_filtered_ws[target_feature].iloc[idx]:\n",
    "            vec = bv.encode([word])\n",
    "            title_list.append(vec)\n",
    "            data_set_filtered_ws[target_feature + \"_vector\"].iloc[idx] = title_list"
   ]
  },
  {
   "cell_type": "code",
   "execution_count": 16,
   "metadata": {},
   "outputs": [
    {
     "output_type": "stream",
     "name": "stdout",
     "text": [
      "(98, 3)\n"
     ]
    }
   ],
   "source": [
    "print(data_set_filtered_ws.shape)\n",
    "data_set_filtered_ws.to_pickle('data_title_ws_0224.pkl')"
   ]
  },
  {
   "cell_type": "code",
   "execution_count": 17,
   "metadata": {},
   "outputs": [
    {
     "output_type": "stream",
     "name": "stdout",
     "text": [
      "(98, 3)\n"
     ]
    }
   ],
   "source": [
    "print(data_set_filtered.shape)\n",
    "data_set_filtered.to_pickle('data_title_sentence_0224.pkl')"
   ]
  },
  {
   "cell_type": "code",
   "execution_count": 18,
   "metadata": {},
   "outputs": [],
   "source": [
    "del data_set_filtered\n",
    "del data_set_filtered_ws"
   ]
  },
  {
   "cell_type": "code",
   "execution_count": 19,
   "metadata": {},
   "outputs": [],
   "source": [
    "!rm -r ./bert/tmp/"
   ]
  },
  {
   "cell_type": "code",
   "execution_count": null,
   "metadata": {},
   "outputs": [],
   "source": []
  }
 ],
 "metadata": {
  "kernelspec": {
   "name": "python3",
   "display_name": "Python 3.8.6 64-bit",
   "metadata": {
    "interpreter": {
     "hash": "7e85ec9bf098c5427e45e2f632dcd4eeff803b007e1abd287d600879388709c1"
    }
   }
  },
  "language_info": {
   "codemirror_mode": {
    "name": "ipython",
    "version": 3
   },
   "file_extension": ".py",
   "mimetype": "text/x-python",
   "name": "python",
   "nbconvert_exporter": "python",
   "pygments_lexer": "ipython3",
   "version": "3.8.6-final"
  }
 },
 "nbformat": 4,
 "nbformat_minor": 2
}